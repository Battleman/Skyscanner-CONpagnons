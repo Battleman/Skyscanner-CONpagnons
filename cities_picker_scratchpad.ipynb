{
 "cells": [
  {
   "cell_type": "code",
   "execution_count": 1,
   "metadata": {
    "collapsed": true
   },
   "outputs": [],
   "source": [
    "import requests\n",
    "import json\n",
    "\n",
    "from clarifai.rest import ClarifaiApp\n",
    "\n",
    "from bs4 import BeautifulSoup\n",
    "import requests\n",
    "from pandas import Series,DataFrame\n",
    "\n",
    "from collections import Counter\n",
    "\n",
    "import pickle\n",
    "\n",
    "import re"
   ]
  },
  {
   "cell_type": "code",
   "execution_count": 2,
   "metadata": {
    "collapsed": true
   },
   "outputs": [],
   "source": [
    "\n",
    "app = ClarifaiApp()\n",
    "model = app.models.get('general-v1.3')"
   ]
  },
  {
   "cell_type": "code",
   "execution_count": 3,
   "metadata": {},
   "outputs": [
    {
     "name": "stdout",
     "output_type": "stream",
     "text": [
      "skyscraper 0.9986655\n",
      "city 0.99813396\n",
      "skyline 0.99731296\n",
      "cityscape 0.99724084\n",
      "tallest 0.99628556\n",
      "architecture 0.9935961\n",
      "tower 0.99185944\n",
      "downtown 0.9860486\n",
      "office 0.9857589\n",
      "travel 0.9854231\n",
      "modern 0.9831452\n",
      "panoramic 0.9794986\n",
      "building 0.9794082\n",
      "urban 0.97695947\n",
      "business 0.973348\n",
      "sky 0.9704137\n",
      "no person 0.96794486\n",
      "high 0.9670117\n",
      "dusk 0.9601188\n",
      "landmark 0.95253515\n"
     ]
    }
   ],
   "source": [
    "\n",
    "response = model.predict_by_url(url='https://upload.wikimedia.org/wikipedia/commons/thumb/c/c0/Tokyo_Tower_and_around_Skyscrapers.jpg/238px-Tokyo_Tower_and_around_Skyscrapers.jpg')\n",
    "    \n",
    "\n",
    "concepts = response['outputs'][0]['data']['concepts']\n",
    "for concept in concepts:\n",
    "    print(concept['name'], concept['value'])\n",
    "\n",
    "    "
   ]
  },
  {
   "cell_type": "code",
   "execution_count": 4,
   "metadata": {
    "collapsed": true
   },
   "outputs": [],
   "source": [
    "url = \"https://en.wikipedia.org/wiki/Bergamo\"\n",
    "\n",
    "\n",
    "\n",
    "\n",
    "\n",
    "\n"
   ]
  },
  {
   "cell_type": "code",
   "execution_count": 5,
   "metadata": {},
   "outputs": [],
   "source": [
    "def count_words_wikipedia(name, words):\n",
    "    startURL = 'https://en.wikipedia.org/wiki/'\n",
    "    result = requests.get(startURL + name)\n",
    "\n",
    "    c = result.content\n",
    "\n",
    "    soup = BeautifulSoup(c, \"lxml\")\n",
    "\n",
    "    city_name = soup.find(id='firstHeading').text\n",
    "    text = soup.find(id='bodyContent').text\n",
    "\n",
    "    regx = r'\\b' + '|'.join(words) + r'\\b'\n",
    "    occ = re.findall(regx, text, re.IGNORECASE)\n",
    "    occ_len = len(occ)\n",
    "    article_len = len(text)\n",
    "    score = float(occ_len) / float(article_len)\n",
    "\n",
    "    return score\n",
    "\n",
    "\n",
    "\n"
   ]
  },
  {
   "cell_type": "code",
   "execution_count": null,
   "metadata": {
    "collapsed": true
   },
   "outputs": [],
   "source": []
  },
  {
   "cell_type": "code",
   "execution_count": 6,
   "metadata": {
    "collapsed": true
   },
   "outputs": [],
   "source": [
    "def find_best_words(image):\n",
    "    response = model.predict_by_url(url=image)\n",
    "\n",
    "    concepts = response['outputs'][0]['data']['concepts']\n",
    "    return list(map(lambda c: c['name'], concepts))[:10]\n",
    "    \n",
    "    \n",
    "def get_city_score(city, words):\n",
    "    score = count_words_wikipedia(city, words)\n",
    "    return score\n",
    "\n",
    "#cities = ['Paris', 'Rome', 'Tokyo', 'London', 'Beijing', 'Seoul', 'New York', 'Cairo', 'Bergamo']\n",
    "\n",
    "image = 'https://upload.wikimedia.org/wikipedia/commons/thumb/c/c0/Tokyo_Tower_and_around_Skyscrapers.jpg/238px-Tokyo_Tower_and_around_Skyscrapers.jpg'\n",
    "words = find_best_words(image)"
   ]
  },
  {
   "cell_type": "code",
   "execution_count": 7,
   "metadata": {
    "collapsed": true
   },
   "outputs": [],
   "source": [
    "def get_most_likely_cities(image, cities):\n",
    "    words = find_best_words(image)\n",
    "    cities_score = []\n",
    "    for city in cities:\n",
    "        cities_score.append((city, get_city_score(city, words)))\n",
    "    return cities_score\n",
    "\n"
   ]
  },
  {
   "cell_type": "code",
   "execution_count": null,
   "metadata": {
    "collapsed": true
   },
   "outputs": [],
   "source": []
  },
  {
   "cell_type": "code",
   "execution_count": 8,
   "metadata": {
    "collapsed": true
   },
   "outputs": [],
   "source": [
    "def select_best_cities_from_image(image, citiess, number):\n",
    "    words = find_best_words(image)\n",
    "    print(words)\n",
    "    cities_score = []\n",
    "    for city in citiess:\n",
    "        cities_score.append((city, get_city_score(city, words)))\n",
    "    return sorted(cities_score, key=lambda tup: tup[1], reverse=True)\n",
    "tokyo = image\n",
    "\n",
    "\n",
    "def select_best_cities_fixed(image, number):\n",
    "    cities = ['Paris', 'Rome', 'Tokyo', 'London', 'Beijing', 'Seoul', 'New York', 'Cairo', 'Bergamo', 'Rio de Janeiro']\n",
    "    return select_best_cities_from_image(image, cities, number)"
   ]
  },
  {
   "cell_type": "code",
   "execution_count": null,
   "metadata": {
    "collapsed": true
   },
   "outputs": [],
   "source": []
  },
  {
   "cell_type": "code",
   "execution_count": 9,
   "metadata": {
    "collapsed": true
   },
   "outputs": [],
   "source": [
    "country = 'CH'\n",
    "currency = 'CHF'\n",
    "locale = 'en_GB'\n",
    "json_data = requests.get('http://partners.api.skyscanner.net/apiservices/geo/v1.0?apiKey=ha712564909427747796218296388326')\n",
    "\n",
    "parsed = json.loads(json_data.text)\n"
   ]
  },
  {
   "cell_type": "code",
   "execution_count": 10,
   "metadata": {},
   "outputs": [
    {
     "name": "stdout",
     "output_type": "stream",
     "text": [
      "<class 'list'>\n",
      "<class 'dict'>\n",
      "<class 'list'>\n",
      "<class 'dict'>\n",
      "{'SingleAirportCity': True, 'Airports': [{'CityId': 'BINA', 'CountryId': 'AF', 'Location': '67.823611, 34.804167', 'Id': 'BIN', 'Name': 'Bamiyan'}], 'CountryId': 'AF', 'Location': '67.823611, 34.804167', 'IataCode': 'BIN', 'Id': 'BINA', 'Name': 'Bamiyan'}\n"
     ]
    }
   ],
   "source": [
    "\n",
    "cont = parsed['Continents']\n",
    "print(type(cont))\n",
    "count = cont[0]\n",
    "print(type(count))\n",
    "count2 = count['Countries']\n",
    "print(type(count2))\n",
    "count3 = count2[0]\n",
    "print(type(count3))\n",
    "count4 = count3['Cities']\n",
    "count5 = count4[0]\n",
    "print(count5)\n"
   ]
  },
  {
   "cell_type": "code",
   "execution_count": 11,
   "metadata": {},
   "outputs": [
    {
     "name": "stdout",
     "output_type": "stream",
     "text": [
      "['BVA', 'CDG', 'ORY']\n"
     ]
    }
   ],
   "source": [
    "city_dict = {}\n",
    "for continent in cont:\n",
    "    for countries in continent['Countries']:\n",
    "        country = countries['Name']\n",
    "        for cities in countries['Cities']:\n",
    "            city = cities['Name']\n",
    "            airport_list = []\n",
    "            for airport in cities['Airports']:\n",
    "                airport_list.append(airport['Id'])\n",
    "                #print(city + ', ' + country +':    ' + airports['Name'] +' '+ airports['Id'])\n",
    "            city_dict[city] = airport_list\n",
    "\n",
    "print(city_dict[\"Paris\"])    "
   ]
  },
  {
   "cell_type": "code",
   "execution_count": null,
   "metadata": {
    "collapsed": true
   },
   "outputs": [],
   "source": []
  },
  {
   "cell_type": "code",
   "execution_count": 12,
   "metadata": {},
   "outputs": [
    {
     "name": "stdout",
     "output_type": "stream",
     "text": [
      "['Bamiyan', 'Bost', 'Chakcharan', 'Farah', 'Faizabad', 'Herat', 'Kabul', 'Kandahar', 'Maimana', 'Mazar-I-Sharif', 'Sharana', 'Kunduz', 'Zaranj', 'Yerevan', 'Gyoumri', 'Baku', 'Gyandzha', 'Lankaran', 'Nakhichevan', 'Qabala', 'Barisal', 'Chittagong', \"Cox's Bazar\", 'Dhaka', 'Jessore', 'Rajshahi', 'Saidpur', 'Sylhet', 'Jakar', 'Gelephu', 'Paro', 'Baise', 'Aba/Hongyuan', 'Arxan', 'Qionghai', 'Bijie', 'Beijing', 'Bole', 'Qinhuangdao', 'Ba Tong', 'Burqin', 'Altay', 'Xingyi', 'Aksu', 'Anshan', 'Anqing', 'An Shun', 'Alxa League', 'Baotou', 'Beihai', 'Bangda', 'Baoshan', 'Guangzhou', 'Changde', 'Zhengzhou', 'Changchun', 'Chaoyang', 'Chifeng', 'Changzhi', 'Chongqing', 'Changsha', 'Chengdu', 'Changzhou', 'Datong', 'Daxian', 'Daocheng County', 'Dandong', 'Chengde', 'Diqing', 'Dalian', 'Dali City', 'Dunhuang', 'Dongying', 'Dongsheng', 'Dayong', 'Enshi', \"Yan'an\", 'Fuzhou', 'Fuyang', 'Fuoshan', 'Fuyuan', 'Fuyun', 'Golmud', 'Guang Yuan', 'Haikou', 'Heihe', 'Hohhot', 'Hefei', 'Hangzhou', 'Hailar', 'Ulanhot', 'Hami', 'Hengyang', 'Harbin', 'Zhoushan', 'Huizhou', 'Huangyan', 'Hanzhong', 'Yinchuan', 'Qiemo', 'Qingyang', 'Jingdezhen', 'Jiagedaqi District', 'Jiayuguan', 'Ji An', 'Jinghong', 'Jiujiang', 'Jinjiang', 'Jiamusi', 'Jining', 'Jinzhou', 'Juzhou', 'Song Pan', 'Kuqa', 'Kashi', 'Nanchang', 'Kunming', 'Ganzhou', 'Korla', 'Karamay', 'Guiyang', 'Guilin', 'Longyan', 'Lanzhou', 'Lijiang City', 'Libo County', 'LingLing', 'Lvliang', 'Lincang', 'Luxi', 'Lhasa', 'Luoyang', 'Lianyungang', 'Linyi', 'Liuzhou', 'Luzhou', 'Mudanjiang', 'Meixian', 'Nanchong', 'Qiqihar', 'Ningbo', 'Nanking / Nanjing', 'Nanning', 'Nanyang', 'Nantong', 'Pan Zhi Hua', 'Bayannur', 'Shanghai', 'Shenyang', 'Shanhaiguan', 'Shijiazhuang', 'Shantou', 'Simao', 'Sanya', 'Shenzhen', 'Qingdao', 'Tacheng', 'Tongren', 'Tongliao', 'Tonghua', 'Tianjin', 'Tunxi', 'Taiyuan', 'Urumqi', 'Yulin', 'Weifang', 'Weihai', 'Cangyuan', 'Wenzhou', 'Wu Hai', 'Wuhan', 'Wuyishan', 'Wuxi', 'Wuzhou', 'Wanxian', 'Xiangfan', 'Xichang', 'Xilinhot', 'Xiamen', 'Xining', 'Xuzhou', 'Yibin', 'Yichang', 'Yining', 'Yiwu', 'Yanji', 'Yantai', 'Yancheng', 'Zhangye', 'Zhaotong', 'Zhanjiang', 'Zhuhai', 'Zunyi', 'Baicheng', 'Daqing', 'Ejina Banner', 'Erenhot', 'Golog', 'Xiahe', 'Guyuan', 'Huaian', 'Hechi', 'Handan', 'Huai Hua', 'Hotan', 'Shennongjia', 'Huatugou', 'Huolinguole', 'Delingha', 'Liping City', 'Jinchang', 'Jinan', 'Jixi', 'Lancang', 'Chizhou', 'Kangding', 'Kaili', 'Linfen', 'Liupanshui', 'Lin Zhi', 'Mian Yang', 'Mohe', 'Baishan', 'Ninglang', 'Xinyuan City', 'Manzhouli', 'Zhalantun', 'Alxa Right Banner', 'Rizhao', 'Shigatse', 'Shiquanhe', 'Shangrao', 'Sanming', 'Tengchong', 'Tianshui', 'Turpan', 'Tangshan', 'Ulanqab', 'Shiyan', 'Shaoyang', 'Wenshan', 'Xinzhou', 'Xi An', 'Yangzhou', 'Yun Cheng', 'Yichun', 'Yingkou', 'Zhangjiakou', 'Zhongwei', 'Zhoubai', 'Batumi', 'Kutaisi', 'Tbilisi', 'Agra', 'Agatti Island', 'Aizawl', 'Ahmedabad', 'Amritsar', 'Bhubaneswar', 'Vadodara', 'Bhuj', 'Bhopal', 'Bhavnagar', 'Bikaner', 'Bengaluru', 'Mumbai', 'Bhatinda', 'Kozhikode', 'Kolkata', 'Kadapa', 'Coimbatore', 'Kochi', 'Dehradun', 'New Delhi', 'Dharamsala', 'Dibrugarh', 'Diu', 'Dimapur', 'Guwahati', 'Gaya', 'Goa', 'Gorakhpur', 'Gwalior', 'Hubli', 'Khajuraho', 'Hyderabad', 'Indore', 'Imphal', 'Agartala', 'Bagdogra', 'Chandigarh', 'Allahabad', 'Mangalore', 'Belgaum', 'Lilabari', 'Jammu', 'Leh', 'Madurai', 'Ranchi', 'Silchar', 'Aurangabad', 'Kandla', 'Port Blair', 'Jaipur', 'Jodhpur', 'Jamnagar', 'Jabalpur', 'Jorhat', 'Jaisalmer', 'Kulu', 'Lucknow', 'Ludhiana', 'Chennai', 'Mysore', 'Nagpur', 'Nanded', 'Patna', 'Porbandar', 'Pantnagar', 'Pune', 'Puducherry', 'Rajkot', 'Rajahmundry', 'Raipur', 'Rupsi', 'Shillong', 'Shimla', 'Surat', 'Srinagar', 'Tuticorin', 'Tezpur', 'Tirupati', 'Thiruvananthapuram', 'Tiruchirapalli', 'Udaipur', 'Vidyanagar', 'Vijayawada', 'Varanasi', 'Visakhapatnam', 'Shizuoka', 'Omitama', 'Iwakuni', 'Asahikawa', 'Amakusa', 'Aomori', 'Amami O Shima', 'Akita', 'Fukushima', 'Fukue', 'Fukuoka', 'Yamagata', 'Hachijo Jima', 'Hiroshima', 'Hakodate', 'Hanamaki', 'Saga', 'Iki', 'Ishigaki', 'Iwami', 'Izumo', 'Niigata', 'Kita Kyushu', 'Kikaiga Shima', 'Miyazaki', 'Kumamoto', 'Komatsu', 'Kagoshima', 'Kitadaito', 'Kushiro', 'Yakushima', 'Monbetsu', 'Memanbetsu', 'Minami Daito', 'Matsumoto', 'Miyako Jima', 'Misawa', 'Matsuyama', 'Nagoya', 'Nagasaki', 'Wajima', 'Obihiro', 'Yonaguni Jima', 'Oshima', 'Okushiri', 'Oita', 'Okinawa', 'Okino Erabu', 'Oki Island', 'Okayama', 'Odate Noshiro', 'Rishiri', 'Yoronjima', 'Sendai', 'Nakashibetsu', 'Shirahama', 'Shonai', 'Takamatsu', 'Tokunoshima', 'Tokushima', 'Tanegashima', 'Toyama', 'Taramajima', 'Tsushima', 'Tottori', 'Ube', 'Kumejima', 'Kobe', 'Wakkanai', 'Yonago', 'Osaka', 'Sapporo', 'Tokyo', 'Bishkek', 'Osh', 'Pyongyang', 'Cheongju', 'Jeju', 'Jinju', 'Pohang', 'Gunsan', 'Gwangju', 'Busan', 'Yeosu', 'Seoul', 'Daegu', 'Ulsan', 'WonJu', 'Yangyang', 'Aktobe', 'Almaty', 'Balhash', 'Baykonur', 'Shimkent', 'Zhambyl', 'Zhezkazgan', 'Atyrau', 'Karaganda', 'Kokshetau', 'Kostanay', 'Kzyl-Orda', 'Semipalatinsk', 'Petropavlovsk', 'Pavlodar', 'Aktau', 'Zaisan', 'Taldy-Kurgan', 'Astana', 'Ust-Kamenogorsk', 'Uralsk', 'Bentota River', 'Batticaloa', 'Colombo', 'Dikwella', 'Kotte', 'Sigiriya', 'Gal Oya', 'Hambantota', 'Jaffna', 'Katugastota', 'Koggala', 'Kandy', 'Kelaniya', 'Minneriya', 'Nuwara Eliya', 'Hatton', 'Trincomalee', 'Choibalsan', 'Dalanzadgad', 'Khujirt', 'Khatgal', 'Khovd', 'Altai', 'Moron', 'Ulgit', 'Ulaanbaatar', 'Ulaangom', 'Uliastai', 'Kudahuvadhoo', 'Dharavandhoo Island', 'Fuvahmulak Island', 'Gan Island', 'Kooddoo', 'Hanimaadhoo', 'Ifuru', 'Kaadedhdhoo', 'Kadhdhoo', 'Male', 'Thimarafushi', 'Maamigili Island', 'Bhadrapur', 'Bharatpur', 'Biratnagar', 'Bhairawa', 'Dhangarhi', 'Dolpa', 'Simikot', 'Janakpur', 'Jomsom', 'Jumla', 'Nepalganj', 'Kathmandu', 'Lukla', 'Manang', 'Pokhara', 'Phaplu', 'Simara', 'Surkhet', 'Tumling Tar', 'Bahawalpur', 'Chitral', 'Dalbandin', 'Dera Ghazi Khan', 'Dera Ismail Khan', 'Gilgit', 'Gwadar', 'Islamabad', 'Skardu', 'Karachi', 'Lahore', 'Faisalabad', 'Mohenjodaro', 'Multan', 'Peshawar', 'Panjgur', 'Zhob', 'Rahim Yar Khan', 'Sawan', 'Saidu Sharif', 'Sialkot', 'Sukkur', 'Turbat', 'Quetta', 'Nawabshah', 'Dushanbe', 'Kurgon-Tyube', 'Khudzhand', 'Kulyab', 'Ashgabat', 'Balkanabat', 'Turkmenabad', 'Turkmenbashi', 'Mary', 'Dashoguz', 'Andizhan', 'Bukhara', 'Fergana', 'Karshi', 'Nukus', 'Namangan', 'Navoiy', 'Samarkand', 'Tashkent', 'Termez', 'Urgench', \"Saint John's\", 'The Valley', 'Oranjestad', 'Bridgetown', 'Bonaire', 'St Eustatius', 'Saba Island', \"Arthur's Town\", 'Spring Point', 'Bimini', 'Crooked Island', 'North Eleuthera', 'Freeport', 'Grand Bahama', 'George Town', 'Governors Harbour', 'Inagua', 'Long Island', 'Marsh Harbour', 'Mayaguana', 'Nassau', 'Rum Cay', 'Rock Sound', 'San Andros', 'Stella Maris', 'The Bight', 'Treasure Cay', 'South Andros', 'San Salvador', 'Belmopan', 'Belize City', 'Caye Caulker', 'Caye Chapel', 'Corozal', 'Dangriga', 'Independence', 'Orange Walk', 'Placencia', 'Punta Gorda', 'San Pedro', 'San Ignacio', 'Silver Creek', 'Buenos Aires', 'Drake Bay', 'Fortuna', 'Golfito', 'Limon', 'Liberia', 'Nosara Beach', 'Puerto Jimenez', 'Palmar', 'San Jose', 'Tambor', 'Tamarindo', 'Tortuquero', 'Quepos', 'Cayo Las Brujas', 'Baracoa', 'Bayamo', 'Cayo Coco', 'Cienfuegos', 'Camaguey', 'Cayo Largo Del Sur', 'Guantanamo', 'Nueva Gerona', 'Havana', 'Holguin', 'Moa', 'Manzanillo', 'Santiago', 'Santa Clara', 'Varadero', 'Las Tunas', 'Curacao', 'Dominica', 'La Romana', 'Puerto Plata', 'Punta Cana', 'Samana', 'Santo Domingo', 'St. George', 'Marie Galante', 'Terre-de-Haut', 'Pointe-a-Pitre', 'St Martin', 'Flores', 'Guatemala City', 'Puerto Barrios', 'Retalhuleu', 'Brus Laguna', 'Guanaja', 'La Ceiba', 'Puerto Lempira', 'Roatan', 'Copan', 'San Pedro Sula', 'Tela', 'Tegucigalpa', 'Utila', 'Cap Haitien', 'Port Au Prince', 'Kingston', 'Montego Bay', 'Negril', 'Ocho Rios', 'Nevis', 'Basseterre', 'Cayman Brac Is', 'Grand Cayman Island', 'Little Cayman', 'Castries', 'Fort De France', 'Montserrat', 'Bluefields', 'Bonanza', 'Rivas', 'Managua', 'San Carlos', 'Puerto Cabezas', 'Corn Island', 'Siuna', 'Waspam', 'Achutupo', 'Bahia Pinas', 'Balboa', 'Bocas Del Toro', 'Changuinola', 'Chitre', 'David', 'Jaque', 'Mulatupo', 'Ustupo Island', 'Colon', 'Contadora', 'Panama City', 'Puerto Obaldia', 'Playon Chico', 'Rio Hato', 'San Jose Island', 'Arecibo', 'Aguadilla', 'Ceiba', 'Culebra', 'Mayaguez', 'Roosevelt Roads', 'Ponce', 'San Juan', 'Vieques', 'St Maarten', 'Grand Turk Is', 'Providenciales', 'Salt Cay', 'South Caicos', 'Port Of Spain', 'Tobago', 'Kingstown', 'Beef Island', 'Anegada', 'Virgin Gorda', 'Saint Thomas', 'St Croix Island', 'Tirana', 'Graz', 'Innsbruck', 'Klagenfurt', 'Linz', 'Salzburg', 'Vienna', 'Banja Luka', 'Mostar', 'Sarajevo', 'Tuzla', 'Antwerp', 'Brussels', 'Liege', 'Ostend', 'Bourgas', 'Plovdiv', 'Sofia', 'Varna', 'Minsk', 'Simferopol', 'Altenrhein', 'Basel', 'Bern', 'Geneva', 'Lugano', 'Sion', 'Zurich', 'Ercan', 'Larnaca', 'Paphos', 'Brno', 'Karlovy Vary', 'Ostrava', 'Pardubice', 'Prague', 'Augsburg', 'Baden-Baden', 'Barth', 'Berlin', 'Bremen', 'Cologne', 'Dortmund', 'Dresden', 'Dusseldorf', 'Erfurt', 'Finkenwerder', 'Frankfurt', 'Friedrichshafen', 'Hamburg', 'Hannover', 'Heringsdorf', 'Kassel', 'Leipzig', 'Mannheim', 'Memmingen', 'Munich', 'Munster', 'Nuremberg', 'Paderborn', 'Rostock', 'Saarbruecken', 'Stuttgart', 'Westerland', 'Wyk Auf Foehr', 'Aalborg', 'Aarhus', 'Billund', 'Copenhagen', 'Esbjerg', 'Karup', 'Ronne Bornholm', 'Sonderborg', 'Kardla', 'Kuressaare', 'Tallinn', 'Tartu', 'Alicante', 'Almeria', 'Lanzarote', 'Asturias', 'Badajoz', 'Barcelona', 'Bilbao', 'Castellon de la Plana', 'Fuerteventura', 'Puente Genil', 'Girona', 'Gran Canaria', 'Granada', 'Ibiza', 'Jerez', 'La Coruna', 'La Gomera Tenerife', 'La Palma', 'Leon', 'Lleida', 'Logrono', 'Madrid', 'Malaga', 'Melilla', 'Menorca', 'Murcia', 'Palma', 'Pamplona', 'Reus', 'Burgos', 'Salamanca', 'Santiago de Compostela', 'San Sebastian', 'Santander', 'Seville', 'Tenerife', 'Valencia', 'Valladolid', 'Valverde Hierro', 'Vigo', 'Vitoria', 'Zaragoza', 'Enontekio', 'Helsinki', 'Ivalo', 'Joensuu', 'Jyvaskyla', 'Kajaani', 'Kemi / Tornio', 'Kittilä', 'Kokkola / Pietarsaari Kruunupyy', 'Kuopio', 'Kuusamo', 'Lappeenranta', 'Mariehamn', 'Oulu', 'Pori', 'Rovaniemi', 'Savonlinna', 'Seinajoki Ilmajoki', 'Tampere', 'Turku', 'Vaasa', 'Sorvagur', 'Agen', 'Aix en Provence', 'Ajaccio', 'Angers', 'Aurillac Tronquiere', 'Avignon', 'Bastia - Corsica', 'Bergerac', 'Beziers', 'Biarritz', 'Bordeaux', 'Brest', 'Brive Vallée de la Dordogne', 'Caen', 'Calvi', 'Carcassonne', 'Castres Mazamet', 'Chambery', 'Chateauroux', 'Clermont-Ferrand', 'Deauville St. Gatien', 'Dijon', 'Dinard', 'Dole Tavaux', 'Epinal Mirecourt', 'Figari', 'Grenoble', 'Lannion', 'La Rochelle', 'Le Mans', 'Le Puy Loudes', 'Le Touquet Paris Plag', 'Lille', 'Limoges', 'Lorient', 'Lourdes', 'Lyon', 'Marseille', 'Mende', 'Metz', 'Montpellier', 'Mulhouse', 'Nantes', 'Nice', 'Nimes', 'Paris', 'Pau', 'Perigueux', 'Perpignan', 'Poitiers', 'Quimper', 'Reims', 'Rennes', 'Rodez', 'Rouen', 'St Etienne', 'St. Nazaire Montoir', 'Strasbourg', 'Toulon', 'Tours', 'Toulouse', 'Châlons-en-Champagne', 'Guernsey', 'Gibraltar', 'Alexandroupolis Dimokritos', 'Araxos', 'Argostoli', 'Astypalaia', 'Athens', 'Chios', 'Corfu', 'Crete', 'Ikaria', 'Ioannina', 'Kalymnos', 'Kalamata', 'Karpathos', 'Kasos Island', 'Kastoria Aristotlis', 'Kastelorizo', 'Kavala', 'Kithira', 'Kos', 'Kozani', 'Lemnos', 'Leros', 'Mykonos', 'Milos', 'Mytilene', 'Naxos', 'Paros', 'Preveza', 'Rhodes', 'Samos', 'Sitia', 'Skiathos', 'Skiros', 'Syros Island', 'Thessaloniki', 'Santorini (Thira)', 'Volos', 'Zante (Zakynthos)', 'Bol', 'Dubrovnik', 'Osijek', 'Pula', 'Rijeka', 'Split', 'Zadar', 'Zagreb', 'Budapest', 'Debrecen', 'Miskolc', 'Pecs', 'Balaton', 'Szeged', 'Cork', 'Donegal', 'Dublin', 'Kerry', 'Knock', 'Shannon', 'Spiddal Connemara', 'Alghero Sardinia', 'Ancona', 'Bari', 'Bologna', 'Brindisi', 'Cagliari', 'Catania', 'Comiso', 'Crotone', 'Cuneo', 'Florence', 'Foggia Gino Lisa', 'Genoa', 'Lampedusa', 'Lamezia Terme', 'Milan', 'Naples', 'Olbia', 'Palermo', 'Pantelleria', 'Parma', 'Perugia', 'Pescara', 'Pisa', 'Reggio Calabria', 'Rimini', 'Rome', 'San Domino Island', 'Trapani Birgi', 'Trieste', 'Turin', 'Venice', 'Verona', 'Vieste', 'Pristina', 'Kaunas', 'Palanga', 'Vilnius', 'Luxembourg', 'Liepaya', 'Riga', 'Monte Carlo', 'Chisinau', 'Podgorica', 'Tivat', 'Ohrid', 'Skopje', 'Comino', 'Luqa', 'Amsterdam', 'Eindhoven', 'Groningen', 'Maastricht', 'Rotterdam', 'Aalesund Vigra', 'Alta', 'Andenes', 'Bardufoss', 'Batsfjord', 'Bergen', 'Berlevag', 'Bodo', 'Bronnoysund Bronnoy', 'Evenes', 'Fagernes Valdres', 'Floro', 'Forde', 'Hammerfest', 'Hasvik', 'Haugesund', 'Honningsvag Valan', 'Kirkenes Høybuktmoen', 'Kristiansund', 'Kristiansand', 'Lakselv', 'Leknes', 'Longyearbyen', 'Mehamn', 'Mo I Rana Rossvoll', 'Molde Aro', 'Mosjoen Kjaerstad', 'Namsos', 'Notodden', 'Orland', 'Orsta / Volda Hovden', 'Oslo', 'Roervik Ryumsjoen', 'Roros', 'Rost', 'Sandane', 'Sandnessjoen', 'Sogndal Haukasen', 'Sorkjosen', 'Stavanger', 'Stokmarknes', 'Stord', 'Svolvaer', 'Tromso', 'Trondheim', 'Vadso', 'Vaeroy Stolport', 'Vardoe Lufthaun', 'Bydgoszcz', 'Lublin', 'Gdansk', 'Katowice', 'Krakow', 'Lodz', 'Poznan', 'Radom', 'Rzeszow', 'Szczecin', 'Szczytno', 'Warsaw', 'Wroclaw', 'Zielona Gora Babimost', 'Braganca', 'Cascais', 'Corvo Island', 'Faro', 'Madeira', 'Graciosa Island', 'Horta', 'Lisbon', 'Pico Island', 'Ponta Delgada', 'Porto', 'Portimao', 'Porto Santo', 'San Jorge Island', 'Flores Island', 'Santa Maria', 'Terceira Lajes', 'Vila Real', 'Viseu G. Lobato', 'Arad', 'Bacau', 'Baia Mare', 'Bucharest', 'Cluj-Napoca', 'Constanta Kogalniceanu', 'Craiova', 'Iasi', 'Oradea', 'Satu Mare', 'Sibiu', 'Suceava Salcea', 'Timisoara', 'Tirgu Mures', 'Belgrade', 'Nis', 'Abakan', 'Sochi', 'Aldan', 'Anadyr', 'Anapa', 'Arkhangelsk', 'Astrakhan', 'Barnaul', 'Belgorod', 'Batagay', 'Belaya Gora', 'Blagoveschensk', 'Bodaybo', 'Bogorodskoye', 'Bratsk', 'Briansk', 'Bugulma', 'Cherskiy', 'Cheboksary', 'Chelyabinsk', 'Cherepovets', 'Chita', 'Chokurdah', 'Solovetsky', 'Yuzhno-Kurilsk', 'Dikson', 'Deputatsky', 'Ekaterinburg', 'Elista', 'Beloyarsky', 'Berezovo', 'Gelendzik', 'Grozny', 'Hatanga', 'Khanty-Mansiysk', 'Igarka', 'Inta', 'Irkutsk', 'Igrim', 'Iturup Island', 'Ivanova', 'Izhevsk', 'Joshkar-Ola', 'Kaliningrad', 'Kaluga', 'Kazan', 'Khandyga', 'Kemerovo', 'Kogalym', 'Khabarovsk Novy', 'Kirensk', 'Kirovsk', 'Kirov', 'Komsomolsk Na Amure', 'Keperveyem', 'Krasnoyarsk', 'Krasnodar', 'Kurgan', 'Kursk', 'Kavalerovo', 'Kyzyl', 'Lipetsk', 'Magadan', 'Magnitogorsk', 'Makhachkala', 'Mineralnye Vody', 'Mirny', 'Moscow', 'Khonnu', 'Murmansk', 'Mys Kamennyy', 'Naberezhnye Chelny', 'Nadym', 'Nalchik', 'Naryan-Mar', 'Nazran', 'Neryungri', 'Nizhniy Novgorod', 'Nizhnevartovsk', 'Nogliki', 'Nojabrxsk', 'Norilsk', 'Novokuzinetsk', 'Novy Urengoy', 'Nyagan', 'Nyurba', 'Okha', 'Ohotsk', 'Omsk', 'Olenyok', 'Orenburg', 'Orsk', 'Novosibirsk', 'Sovetsky', 'Penza', 'Perm', 'St Petersburg', 'Petrozavodsk', 'Petropavlovsk-Kamchats', 'Pevek', 'Polyarnyj', 'Gorno-Altaysk', 'Rostov-on-Don', 'Salehard', 'Samara', 'Saratov', 'Saransk', 'Sabetta', 'Srednekolymsk', 'Shakhtyorsk', 'Stavropol', 'Sakkyryr', 'Surgut', 'Suntar', 'Strzhewoi', 'Evensk', 'Syktyvkar', 'Saskylakh', 'Tambov', 'Podkamennaya Tunguska', 'Turukhansk', 'Tiksi', 'Talakan', 'Plastun', 'Tomsk', 'Tynda', 'Tyumen', 'Olyokminsk', 'Ufa', 'Ust-Kuyga', 'Ukhta', 'Ulan-Ude', 'Lensk', 'Ulyanovsk', 'Ust-Maya', 'Uraj', 'Usinsk', 'Ust-Nera', 'Ust-Kut', 'Velikij Ustyug', 'Verkhnevilyuysk', 'Vladivostok', 'Vladikavkaz', 'Volgograd', 'Vorkuta', 'Voronezh', 'Vilyuysk', 'Yakutsk', 'Yaroslavl', 'Yerbogachen', 'Yuzhno-Sakhalinsk', 'Zhigansk', 'Zyryanka', 'Arvidsjaur', 'Borlange Dala', 'Gallivare', 'Gothenburg', 'Hagfors', 'Halmstad', 'Helsingborg', 'Hemavan', 'Jonkoping Axamo', 'Kalmar', 'Karlstad', 'Kiruna', 'Kramfors', 'Kristianstad', 'Linkoping', 'Lulea Kallax', 'Lycksele Hedlunda', 'Malmo', 'Mora', 'Norrkoping Kungsangen', 'Orebro', 'Ornskoldsvik', 'Oskarshamn', 'Ostersund', 'Pajala', 'Ronneby', 'Skelleftea', 'Stockholm', 'Sundsvall', 'Sveg', 'Torsby Fryklanda', 'Trollhattan', 'Umea', 'Vaxjo', 'Vilhelmina Sagadal', 'Visby', 'Ljubljana', 'Maribor', 'Bratislava', 'Kosice', 'Poprad', 'Berdiansk', 'Chernivtsi', 'Dnipro', 'Ivano-Frankivsk', 'Kharkiv', 'Kherson', 'Kiev', 'Lviv', 'Odesa', 'Vinnytsia', 'Zaporizhia', 'Aberdeen', 'Alderney', 'Anglesey', 'Barra', 'Belfast', 'Benbecula', 'Birmingham', 'Blackpool', 'Bournemouth', 'Bristol', 'Campbeltown', 'Cardiff', 'Castletown', 'Cambridge', 'Chester', 'Coll Island', 'Colonsay Is', 'Derry', 'Doncaster', 'Dundee', 'Edinburgh', 'Eday', 'Exeter', 'Fair Isle', 'Foula', 'Glasgow', 'Gloucester', 'Humberside', 'Inverness', 'Islay', 'Jersey', 'Leeds', 'Lands End', 'Liverpool', 'London', 'Lydd', 'Manchester', 'Durham', 'Sanday', 'Newcastle', 'Newquay', 'Norwich', 'Nottingham', 'North Ronaldsay', 'Oban', 'Orkney', 'Penzance', 'Plymouth', 'Papa Westray', 'Papa Stour', 'Isles Of Scilly', 'Southampton', 'Stronsay', 'Stornoway', 'Sumburgh', 'Swansea', 'Tiree', 'Wick', 'Westray', 'Cabinda', 'Catumbela', 'Dundo', 'Luanda', 'Luena', 'Malange', 'Namibe', 'Huambo', 'Nzagi', 'Lubango', 'Menongue', 'Kuito', 'Soyo', 'Saurimo', 'Ongiva', 'Bobo Dioulasso', 'Ouagadougou', 'Bujumbura', 'Cotonou', 'Kasane', 'Francistown', 'Gaborone', 'Maun', 'Bukavu', 'Bumba', 'Beni', 'Bunia', 'Lubumbashi', 'Kinshasa', 'Kisangani', 'Kalemie', 'Gemena', 'Goma', 'Isiro', 'Kananga', 'Kindu', 'Kolwezi', 'Lisala', 'Lodja', 'Lusanga', 'Luozi', 'Mbandaka', 'Mbuji Mayi', 'Bangui', 'Bozoum', 'Carnot', 'Brazzaville', 'Loubomo', 'Makabana', 'Pointe Noire', 'Abidjan', 'Bouake', 'Korhogo', 'Odienne', 'Man', 'Bafoussam', 'Douala', 'Garoua', 'Maroua', 'Ngaoundere', 'Yaounde', 'Boa Vista', 'Maio', 'Praia', 'Sao Filipe', 'Sal', 'Sao Nicolau', 'Sao Vicente', 'Djibouti', 'Annaba', 'Algiers', 'Adrar', 'Bejaia', 'Batna', 'Bordj Badji Mokhtar', 'Biskra', 'Bechar', 'Chlef', 'Constantine', 'Djanet', 'El Bayadh', 'El Golea', 'El Oued', 'Ghardaia', 'Jijel', 'Hassi Messaoud', 'In Amenas', 'In Salah', 'Laghouat', 'Ouargla', 'Oran', 'Setif', 'Tbessa', 'Touggourt', 'Tiaret', 'Tindouf', 'Tlemcen', 'Tamanrasset', 'Timimoun', 'Illizi', 'Abu Simbel', 'Alexandria', 'Assiut', 'Aswan Daraw', 'Cairo', 'Hurghada', 'Luxor', 'Marsa Allam', 'Sharm El Sheikh', 'Santa Katarina', 'Sohag', 'Asmara', 'Kabri Dar', 'Addis Ababa', 'Arba Mintch', 'Asosa', 'Awassa', 'Axum', 'Jinka', 'Bahar Dar', 'Dire Dawa', 'Dessie', 'Gode / Iddidole', 'Gondar', 'Gambela', 'Humera', 'Jijiga', 'Jimma', 'Lalibela', 'Makale', 'Indaselassie', 'Semera', 'Libreville', 'Franceville', 'Port Gentil', 'Accra', 'Kumasi', 'Takoradi', 'Tamale', 'Banjul', 'Conakry', 'Bata', 'Mongomo', 'Annobon', 'Malabo', 'Bissau', 'Amboseli', 'Eldoret', 'Garissa', 'Kakamega', 'Kinna', 'Kisumu', 'Kitale', 'Lamu', 'Lake Baringo', 'Lodwar', 'Loyangalani', 'Mombasa', 'Maasai Mara', 'Malindi', 'Nairobi', 'Nanyuki', 'Samburu', 'Ukunda', 'Vipingo', 'Wajir', 'Anjouan', 'Moheli', 'Moroni', 'Monrovia', 'Maseru', 'Pelaneng', 'Kufrah', 'Benghazi', 'Beida', 'Mitiga', 'Misurata', 'Sebha', 'Tripoli', 'Tobruk', 'Zintan', 'Agadir', 'Al Hoceima', 'Beni Mellal', 'Casablanca', 'Dakhla', 'Errachidia', 'Essaouira', 'Fes', 'Goulimime', 'Laayoune Hassan I', 'Marrakech Menara', 'Nador', 'Ouarzazate', 'Oujda', 'Rabat', 'Tangier', 'Tan Tan', 'Tetuan S. Ramel', 'Zagora', 'Antalaha', 'Antsiranana', 'Fort Dauphin', 'Majunga', 'Morondava', 'Nossi-be', 'Sainte Marie', 'Sambava', 'Tulear', 'Tamatave', 'Antananarivo', 'Maroantsetra', 'Mananara', 'Bamako', 'Nouadhibou', 'Nouakchott', 'Zouerate', 'Mauritius', 'Rodrigues Is', 'Blantyre', 'Chelinda', 'Club Makokola', 'Likoma Island', 'Lilongwe', 'Monkey Bay', 'Mvuu Camp', 'Mzuzu', 'Nampula', 'Beira', 'Inhambane', 'Nacala', 'Maputo', 'Pemba', 'Tete', 'Quelimane', 'Vilanculos', 'Chimoio', 'Lichinga', 'Luderitz', 'Mpacha', 'Rundu', 'Oranjemund', 'Ondangwa', 'Windhoek', 'Walvis Bay', 'Agades', 'Niamey', 'Zinder', 'Abuja', 'Akure', 'Asaba', 'Bauchi', 'Benin City', 'Calabar', 'Enugu', 'Gombe', 'Ibadan', 'Ilorin', 'Jos', 'Kaduna', 'Kano', 'Katsina', 'Lagos', 'Maiduguri', 'Minna', 'Owerri', 'Port Harcourt', 'Warri', 'Sokoto', 'Uyo', 'Yola', 'Saint-Denis', 'Saint-Pierre', 'Kigali', 'Kamembe', 'Praslin Island', 'Mahe Island', 'Dongola', 'El Obeid', 'Geneina', 'El Fasher', 'Khartoum', 'Kassala', 'Merowe', 'Port Sudan', 'Roseires', 'Nyala', 'Wadi Halfa', 'Georgetown', 'St Helena', 'Freetown', 'Cap Skirring', 'Dakar', 'Kolda', 'Ziguinchor', 'Adado', 'Bossaso', 'Garoe', 'Galcaio', 'Guriel', 'Hargeisa', 'Kismayu', 'Mogadishu', 'Juba', 'Wau', 'Principe', 'Sao Tome Is', 'Manzini', \"N'Djamena\", 'Lome', 'Djerba', 'Gabes', 'Monastir', 'Enfidha', 'Sfax El Maou', 'Tabarka', 'Tozeur', 'Tunis Carthage', 'Arusha', 'Bukoba', 'Dar Es Salaam', 'Dodoma', 'Geita', 'Grumeti', 'Iringa', 'Njombe', 'Kilimanjaro', 'Kilwa', 'Lake Manyara', 'Mbeya', 'Mafia', 'Musoma', 'Mwanza', 'Mtwara', 'Seronera', 'Songea', 'Tabora', 'Tanga', 'Kigoma', 'Zanzibar', 'Entebbe', 'Jinja', 'Kihihi', 'Kasese', 'Pakuba', 'Arua', 'Gulu', 'Dzaoudzi', 'Arathusa Safari Lodge', 'Bloemfontein', 'Cape Town', 'Durban', 'East London', 'George', 'Hoedspruit', 'Johannesburg', 'Kimberley', 'Londolozi', 'Mmabatho', 'Margate', 'Nelspruit', 'Ngala', 'Sun City', 'Plettenberg Bay', 'Phalaborwa', 'Port Elizabeth', 'Prieska', 'Pretoria', 'Polokwane', 'Pietermaritzburg', 'Phinda', 'Richards Bay', 'Sishen', 'Skukuza', 'Ulundi', 'Ulusaba', 'Upington', 'Umtata', 'Kasama', 'Kalabo', 'Lusaka', 'Livingstone', 'Mfuwe', 'Ndola', 'Solwezi', 'Lower Zambezi National Park', 'Bulawayo', 'Harare', 'Victoria Falls', 'Bandar Seri Begawan', 'Cocos Islands', 'Christmas Island', 'Hong Kong', 'Atambua', 'Aek Godang', 'Ambon', 'Alor Island', 'Banjarmasin', 'Bandung', 'Berau', 'Biak', 'Bajawa', 'Bengkulu', 'Bima', 'Balikpapan', 'Batam', 'Banda Aceh', 'Batu Licin', 'Baubau', 'Banyuwangi', 'Babo', 'Cirebon', 'Jakarta', 'Cilacap', 'Yakuhimo (Dekai)', 'Jambi', 'Jayapura', 'Dobo', 'Bali (Denpasar)', 'Siborong-borong', 'Dumai', 'Ende', 'Fak Fak', 'Sibolga', 'Galela', 'Gunungsitoli', 'Gorontalo', 'Jember', 'Yogyakarta', 'North Halmahera (Kau)', 'Kotabaru', 'Kendari', 'Kaimana', 'Kupang', 'Kerinci', 'Ketapang', 'Labuha', 'Labuan Bajo', 'Larantuka', 'Palopo', 'Praya', 'Lhoksumawe', 'Langgur', 'Banggai (Luwuk)', 'Lewoleba', 'Manado', 'Meulaboh', 'Medan', 'Milanau', 'Mamuju', 'Merauke', 'Manokwari', 'Malang', 'Sangir Talaud (Melonguane)', 'Maumere', 'Muara Teweh', 'Matak', 'Masamba', 'Naha', 'Nabire', 'Nunukan', 'Namrole', 'Natuna Ranai', 'Oksibil', 'Morotai Island', 'Padang', 'Pangkalpinang', 'Pangkalanbuun', 'Pekanbaru', 'Palangkaraya', 'Palembang', 'Palu', 'Pontianak', 'Poso', 'Putussibau', 'Pomala', 'Lahat', 'Raha', 'Ruteng', 'Roti', 'Sabang', 'Sanggata', 'Sinabang', 'Sampit', 'Solo / Surakarta', 'Sorong', 'Sintang', 'Semarang', 'Samarinda', 'Surabaya', 'Sumenep', 'Sumbawa', 'Saumlaki', 'Tembagapura', 'Tanjung Warukin', 'Belitung (Tanjung Pandan)', 'Tanjung Selor', 'Bandar Lampung', 'Tolitoli', 'Tambolaka', 'Tanahmerah', 'Tanjung Pinang', 'Tarakan', 'Tasikmalaya', 'Ternate', 'Tana Toraja', 'Takengon', 'Buol', 'Makassar', 'Ampana', 'Waingapu', 'Wamena', 'Sihanoukville', 'Phnom Penh', 'Siem Reap', 'Houeisay', 'Luang Prabang', 'Luang Namtha', 'Sam Neua', 'Oudomxay', 'Phongsaly', 'Pakse', 'Vientiane', 'Xieng Khouang', 'Savannakhet', 'Sittwe', 'Bhamo', 'Bassein', 'Heho', 'Homalin', 'Kawthaung', 'Keng Tung', 'Khamti', 'Kalemyo', 'Kyaukpyu', 'Loikaw', 'Lashio', 'Mandalay', 'Manaung', 'Myeik', 'Maulmyine', 'Mong Hsat', 'Myitkyina', 'Naypyidaw', 'Nyaung-u', 'Monywa', 'Putao', 'Yangon', 'Thandwe', 'Tachilek', 'Dawe', 'Ann', 'Bokpyin', 'Macau', 'Alor Setar', 'Bario', 'Kota Kinabalu', 'Bakalalan', 'Bintulu', 'Ipoh', 'Johor Bahru', 'Kota Bharu', 'Kuching', 'Kerteh', 'Kuantan', 'Kudat', 'Kuala Lumpur', 'Long Banga', 'Labuan', 'Lahad Datu', 'Langkawi', 'Long Lellang', 'Long Akah', 'Limbang', 'Lawas', 'Mukah', 'Malacca', 'Marudi', 'Miri', 'Mulu', 'Long Seridan', 'Penang', 'Sibu', 'Sandakan', 'Tanjung Manis', 'Kuala Terengganu', 'Tawau', 'Bacolod', 'Borongan', 'Basco', 'Butuan', 'Cotabato', 'Cebu', 'Camiguin', 'Cagayan De Oro', 'Angeles', 'Catarman', 'Calbayog', 'Cuyo', 'Cauayan', 'Dumaguete', 'Dipolog', 'Davao', 'El Nido', 'General Santos', 'Iloilo', 'Jolo', 'Kalibo', 'Laoag', 'Legaspi', 'Maconacon', 'Masbate', 'Manila', 'Caticlan', 'Marinduque', 'Ormoc', 'Ozamis City', 'Pagadian', 'Puerto Princesa', 'Zamboanga', 'Roxas City', 'Subic Bay', 'Sanga Sanga', 'Siargao Island', 'Surigao', 'Tacloban', 'Tagbilaran', 'Tablas', 'Tandag', 'Tuguegarao', 'Tawitawi', 'Busuanga', 'Vigan', 'Virac', 'Naga', 'Singapore', 'Buri Ram', 'Bangkok', 'Chiang Rai', 'Chumphon', 'Chiang Mai', 'Hat Yai (Songkhla)', 'Mae Hong Son', 'Hua Hin (Prachuap Khiri Khan)', 'Phuket', 'Krabi', 'Khon Kaen', 'Nakhon Phanom', 'Loei', 'Lampang', 'Mae Sot (Tak)', 'Nakhon Ratchasima', 'Narathiwat', 'Nan', 'Nakhon Si Thammarat', 'Phitsanulok', 'Phetchabun', 'Phrae', 'Pai (Mae Hong Son)', 'Roi Et', 'Sakon Nakhon', 'Trat', 'Sukhothai', 'Trang', 'Ubon Ratchathani', 'Ranong', 'Surat Thani', 'Koh Samui / Samui Island', 'Udon Thani', 'Pattaya (Chonburi)', 'Chi Mei', 'Chiayi', 'Green Island', 'Hengchun', 'Hualien', 'Kaohsiung', 'Kinmen', 'Orchid Island', 'Nangan', 'Matsu', 'Makung', 'Taichung', 'Tainan', 'Taipei', 'Taitung', 'Wonan', 'Banmethuot', 'Ca Mau', 'Da Nang', 'Dien Bien Phu', 'Dalat', 'Dong Hoi', 'Hanoi', 'Haiphong', 'Hue', 'Nha Trang', 'Phu Quoc', 'Pleiku', 'Ho Chi Minh City', 'Tuy Hoa', 'Thanh Hoa', 'Qui Nhon', 'Can Tho', 'Tamky', 'Con Dao', 'Vinh City', 'Rach Gia', 'Al Ain', 'Abu Dhabi', 'Dubai', 'Ras al Khaimah', 'Sharjah', 'Sir Bani Yas Island', 'Delma Island', 'Bahrain', 'Eilat', 'Haifa', 'Ovda', 'Tel Aviv', 'Baghdad', 'Basra', 'Erbil', 'Sulaymaniyah', 'Najaf', 'Mosul', 'Nasiriyah', 'Abadan', 'Zabol', 'Ardabil', 'Abu Musa', 'Sabzevar', 'Araak', 'Ahwaz', 'Yazd', 'Bandar Lengeh', 'Bojnord', 'Bandar Abbas', 'Bushehr', 'Bam', 'Shahre-Kord', 'Dezful', 'Gorgan', 'Gachsaran', 'Gheshm', 'Hamadan', 'Isfahan', 'Iran Shahr', 'Ilaam', 'Jahrom', 'Zanjan', 'Jiroft', 'Kerman', 'Khorramabad', 'Kish Island', 'Kashan', 'Kermanshah', 'Lamerd', 'Lar', 'Lavan', 'Mashhad', 'Bandar Mahshahr', 'Now Shahr', 'Urmieh', 'Rasht', 'Rafsanjan', 'Ramsar', 'Sanandaj', 'Shahroud', 'Sary', 'Sirjan', 'Shiraz', 'Tabriz', 'Tabas', 'Tehran', 'Birjand', 'Asaloyeh', 'Yasouj', 'Zahedan', 'Chah-Bahar', 'Amman', 'Aqaba', 'Kuwait', 'Beirut', 'Duqm', 'Khasab', 'Muscat', 'Sohar', 'Salalah', 'Doha', 'Al-Baha', 'Abha', 'Jouf', 'Al `Ula', 'Qaisumah', 'Bisha', 'Dammam', 'Dawadmi', 'Nejran', 'Wedjh', 'Gassim', 'Jazan', 'Hail', 'Alahsa', 'Jeddah', 'Madinah', 'Arar', 'Rafha', 'Riyadh', 'Sharurah', 'Taif', 'Turaif', 'Tabuk', 'Gurayat', 'Wadi Ad Dawasir', 'Yanbu', 'Aleppo', 'Damascus', 'Kameshli', 'Latakia', 'Adana', 'Adiyaman', 'Agri', 'Ankara', 'Antalya', 'Eskisehir', 'Batman', 'Bingöl', 'Bodrum', 'Canakkale', 'Dalaman', 'Denizli Cardak', 'Diyarbakir', 'Edremit / Korfez', 'Elazig', 'Erzincan', 'Erzurum', 'Gaziantep', 'Gazipasa', 'Antakya', 'Igdir', 'Isparta', 'Istanbul', 'Izmir', 'Kars', 'Kayseri', 'Kahramanmaras', 'Kocaeli', 'Kastamonu', 'Konya', 'Kütahya', 'Malatya', 'Mardin', 'Merzifon', 'Mus', 'Nevsehir', 'Ordu/Giresun', 'Zonguldak', 'Samsun', 'Sanliurfa', 'Sinop', 'Sirnak', 'Sivas', 'Siirt', 'Tekirdag', 'Tokat', 'Trabzon', 'Van', 'Bursa', 'Hakkari', 'Al Ghaydah', 'Aden', 'Ataq', 'Seiyun', 'Hodeidah', 'Riyan Mukalla', \"Sana'a\", 'Socotra', 'Taiz', 'St Barthelemy', 'Hamilton', 'Akulivik', 'Colville Lake', 'Hay River', 'Kelsey', 'Keewaywin', 'Kingfisher Lake', 'Aklavik', 'Moncton', 'Muskrat Dam', 'Bella Coola', 'Sarnia', 'Summer Beaver', 'Winnipeg', 'Wunnummin Lake', 'Bearskin Lake', 'Kangiqsualujjuaq', 'Kasabonika', 'Lac Brochet', 'Qualicum', 'South Indian Lake', 'Tadoule Lake', 'Anahim Lake', 'Arctic Bay', 'Cat Lake', 'Fort Frances', 'Sault Ste Marie', 'Maple Bay', 'Attawapiskat', 'Angling Lake', 'St Anthony', 'Tofino', 'Kugaaruk', 'Baie Comeau', 'Uranium City', 'Bagotville', 'Bull Harbour', 'Baker Lake', 'Campbell River', 'Brandon', 'Brochet', 'Berens River', 'Blanc Sablon', 'Cambridge Bay', 'Nanaimo', 'Castlegar', 'Charlo', 'Kugluktuk', 'Cross Lake', 'Chesterfield Inlet', 'Clyde River', 'Dawson City', 'Deer Lake', 'Nain', 'Dawson Creek', 'Edmonton', 'Arviat', 'Yellowknife', 'Fort Severn', 'Inuvik', 'Fort Albany', 'Iqaluit', 'Fredericton', 'Fort Hope', 'Snare Lake', 'Flin Flon', 'Fort Simpson', 'Gillies Bay', 'Ganges Harbor', 'Fort Good Hope', 'La Grande', 'Gods Narrows', 'Gaspe', 'Iles De La Madeleine', 'Igloolik', 'Havre St Pierre', 'Kuujjuarapik', 'Gillam', 'Grise Fiord', 'Dryden', 'Ulukhaktok', 'Gjoa Haven', 'Hopedale', 'Poplar Hill', 'Chevery', 'Sechelt', 'Halifax', 'Pakuashipi', 'Ivujivik', 'Pond Inlet', 'Island Lake', 'Stephenville', 'Kamloops', 'Kitchener / Waterloo', 'Kangirsuk', 'Schefferville', 'Waskaganish', 'Chisasibi', 'Kimmirut / Lake Harbour', 'Wha Ti / Lac La Martre', 'Lansdowne House', 'Lloydminster', 'Kelowna', 'Fort Mcmurray', 'Makkovik', 'Moosonee', 'Montreal', 'Chibougamau', 'Natashquan', 'Wemindji', 'Norway House', 'Points North Landing', 'North Spirit Lake', 'Natuashish', 'Nemiscau', 'Old Crow', 'Oxford House', 'High Level', 'Ottawa', 'Prince Albert', 'Paulatuk', 'Inukjuak', 'Aupaluk', 'Pitt Meadows', 'Pickle Lake', 'Pikangikum', 'Port Menier', 'Peawanuck', 'Prince Rupert', 'Powell River', 'Povungnituk', 'Fort Chipewyan', 'Quebec', 'Quaqtaq', 'The Pas', 'Red Deer', 'Windsor', 'Kenora', 'Lethbridge', 'Comox', 'Regina', 'Thunder Bay', 'Grande Prairie', 'Gander', 'Sydney', 'Quesnel', 'Gameti', 'Resolute', 'Rigolet', 'Red Lake', 'Red Sucker Lake', 'Rankin Inlet', 'Sudbury', 'Stony Rapids', 'Lutselke / Snowdrift', 'Saint John', 'Sanikiluaq', 'Fort Smith', 'Postville', 'Ste Therese Point', 'Salluit', 'Sachs Harbour', 'Cape Dorset', 'Thompson', 'Big Trout', 'Mont Tremblant', 'Toronto', 'Tasiujuaq', 'Timmins', 'Tuktoyaktuk', 'Umiujaq', 'Repulse Bay', 'Hall Beach', 'Rouyn', 'Bonaventure', 'La Ronge', 'Qikiqtarjuaq', \"Val D'Or\", 'Kuujjuaq', 'Norman Wells', 'Vancouver', 'Kangiqsujuaq', 'Deline', 'Wabush', 'Williams Lake', 'Webequie', 'Whistler', 'Wrigley', 'Cranbrook', 'Saskatoon', 'Medicine Hat', 'Fort St John', 'Sioux Lookout', 'Whale Cove', 'Pangnirtung', 'Prince George', 'Terrace', 'Abbotsford', 'Whitehorse', 'North Bay', 'Calgary', 'Smithers', 'Fort Nelson', 'Penticton', 'Charlottetown', 'Taloyoak', 'Victoria', 'Churchill', 'Goose Bay', \"St John's\", 'Mont Joli', 'Slave Lake', 'Sandspit', 'Coral Harbour', 'Port Hardy', 'Sept-Iles', 'Trail', 'York Landing', 'Bathurst', 'Bella Bella', 'Eastmain', 'Fond-du-Lac', 'Fort McPherson', 'Tulita / Fort Norman', 'Gods River', 'Gethsemani', 'Kashechewan', 'Kegashka', 'La Tabatiere', 'Masset', 'Sachigo Lake', 'Round Lake', 'Sandy Lake', 'Tete-a-La-Baleine', 'Shamattawa', 'Churchill Falls', 'Wollaston Lake', 'Acapulco', 'Aguascalientes', 'Silao', 'Ciudad Obregon', 'Ciudad Juarez', 'Colima', 'Ciudad Del Carmen', 'Campeche', 'Chetumal', 'Ciudad Constitucion', 'Culiacan', 'Cancun', 'Chihuahua', 'Ciudad Victoria', 'Cozumel', 'Durango', 'Guadalajara', 'Guerrero Negro', 'Guaymas', 'Hermosillo', 'Huatulco', 'Isla Mujeres', 'Ixtepec', 'La Paz', 'Los Mochis', 'Monclova', 'Loreto', 'Lazaro Cardenas', 'Matamoros', 'Mexico City', 'Merida', 'Morelia', 'Minatitlan', 'Monterrey', 'Mexicali', 'Mazatlan', 'Nuevo Laredo', 'Oaxaca', 'Poza Rica', 'Puebla', 'Playa del Carmen', 'Piedras Negras', 'Pinotepa Nacional', 'Palenque', 'Puerto Vallarta', 'Puerto Escondido', 'Queretaro', 'Reynosa', 'San Felipe', 'San Jose Cabo', 'San Luis Potosi', 'Saltillo', 'Tampico', 'Tapachula', 'Tuxtla Gutierrez', 'Tijuana', 'Toluca', 'Tepic', 'Torreon', 'Uruapan', 'Veracruz', 'Villahermosa', 'Zacatecas', 'Ixtapa / Zihuatanejo', 'St Pierre', 'Allentown', 'Abilene', 'Ambler', 'Albuquerque', 'Albany', 'Nantucket', 'Waco', 'Arcata', 'Adak Island', 'Kodiak', 'Ada', 'Camp Springs', 'Allakaket', 'Angoon', 'Augusta', 'Alliance', 'Wainwright', 'Atlantic City', 'Atka', 'Akiak', 'Akhiok', 'King Salmon', 'Anaktuvuk', 'Akron', 'Waterloo', 'Alamosa', 'Walla Walla', 'Alitak', 'Amarillo', 'Anchorage', 'Aniak', 'Anvik', 'Martinsburg', 'Amook', 'Alpena', 'Arctic Village', 'Watertown', 'Aspen', 'Atqasuk', 'Atlanta', 'Atmautluak', 'Appleton', 'Alakanuk', 'Austin', 'Wausau', 'Asheville', 'Wilkes-Barre', 'Kalamazoo', 'Bethel', 'Bradford', 'Bakersfield', 'Binghamton', 'Bangor', 'Bar Harbor', 'Billings', 'Bismarck', 'Bemidji', 'Buckland', 'Beckley', 'Brookings', 'Boulder City', 'Bellingham', 'Belleville', 'Bloomington', 'Bloomington-Normal', 'Nashville', 'Boone', 'Boise', 'Boston', 'Beaumont', 'Brainerd', 'Burlington', 'Brownsville', 'Barrow', 'Pohakuloa', 'Barter Island', 'Butte', 'Baton Rouge', 'Bettles', 'Buffalo', 'Burbank', 'Baltimore', 'Bozeman', 'Columbia', 'Upland', 'Concord', 'Cold Bay', 'Cedar City', 'Chadron', 'Cordova', 'Crescent City', 'Central', 'Cortez', 'Craig', 'Cape Girardeau', 'Chattanooga', 'Chicago', 'Charlottesville', 'Charleston', 'Chuathbaluk', 'Cedar Rapids', 'Chalkyitsik', 'El Cajon', 'Clarksburg', 'Crooked Creek', 'Chicken', 'Cleveland', 'College Station', 'Clarks Point', 'Calipatria', 'Charlotte', 'Clearwater', 'Columbus', 'Champaign', 'Hancock', 'Carlsbad', 'Moab', 'Cody / Yellowstone', 'Colorado Springs', 'Casper', 'Corpus Christi', 'San Luis Obispo', 'Cincinnati', 'Clovis', 'Coldfoot', 'Chefornak', 'Cheyenne', 'Chisana', 'Daytona Beach', 'Dayton', 'Dubuque', 'Dubois', 'Dodge City', 'Decatur', 'Denver', 'Dallas', 'Dothan', 'Dickinson', 'Delta Junction', 'Dillingham', 'Duluth', 'Dora Bay', 'Deering', 'Del Rio', 'Destin', 'Des Moines', 'Detroit', 'Dutch Harbor', 'Devils Lake', 'Eagle', 'Wenatchee', 'Eau Claire', 'Edna Bay', 'Eek', 'Vail', 'Egegik', 'Elko', 'El Dorado', 'Elim', 'Elmira', 'El Paso', 'Elfin Cove', 'Emmonak', 'Kenai', 'Erie', 'Errol', 'Escanaba', 'Eastsound', 'Eugene', 'Evansville', 'Fall River', 'New Bern', 'Excursion Inlet', 'Key West', 'Fairbanks', 'Farmington', 'Fargo', 'Fresno', 'Fayetteville', 'Friday Harbor SPB', 'Kalispell', 'Franklin', 'Fond Du Lac', 'Fort Lauderdale', 'Fort Myers', 'Fort Collins', 'Flint', 'Fort Dodge', 'Friday Harbor', 'Sioux Falls', 'Fort Wayne', 'Fort Yukon', 'Galena', 'Gambell', 'Great Bend', 'Gillette', 'Garden City', 'Grand Canyon', 'Glendive', 'Spokane', 'Grand Forks', 'Longview', 'Grand Junction', 'Greenville', 'Golovin', 'Goodnews Bay', 'Gainesville', 'Gulfport', 'Green Bay', 'Grand Island', 'Gordon', 'Grand Rapids', 'Greensboro / High Point', 'Gustavus', 'Great Falls', 'Grants Pass', 'Gunnison', 'Harrisburg', 'Holy Cross', 'Hayden', 'Hartford', 'Hagerstown', 'Hilton Head', 'Hibbing', 'Healy Lake', 'Branson', 'Helena', 'Hoonah', 'Honolulu', 'Hana', 'Haines', 'Hobbs', 'Homer', 'Hot Springs', 'Houston', 'Hooper Bay', 'Westchester County', 'Harlingen', 'Harrison', 'Huslia', 'Huntsville', 'Huntington', 'Hughes', 'New Haven', 'Havre', 'Hyannis', 'Hydaburg', 'Hollis', 'Hays', 'Niagara Falls', 'Kiana', 'Wichita', 'Idaho Falls', 'Bullhead City', 'Igiugig', 'Nikolski', 'Killeen', 'Iliamna', 'Wilmington', 'Iron Mountain', 'Indianapolis', 'International Falls', 'Imperial', 'Williamsport', 'Circle', 'Kirksville', 'Williston', 'Islip', 'Ithaca', 'Hilo', 'Ironwood', 'Inyokern', 'Jackson', 'Jacksonville', 'Jonesboro', 'Kapalua', 'Jamestown', 'Joplin', 'Juneau', 'Johnstown', 'Kake', 'Kaltag', 'Birch Creek', 'Coffman Cove', 'Chignik', 'Nanwalek', 'Kenmore Air Harbor', 'Ekwok', 'False Pass', 'New Koliganek', 'Grayling', 'Koyuk', 'Kitoi Bay', 'Kongiganak', 'Akiachak', 'Kalskag', 'Levelock', 'Larsen Bay', 'Klawock', 'Manokotak', 'Moser Bay', 'Kakhonak', 'New Stuyahok', 'Kona', 'Kotlik', 'Olga Bay', 'Ouzinkie', 'Point Baker', 'Kipnuk', 'Port Williams', 'Perryville', 'Port Bailey', 'Akutan', 'Saint Marys', 'Thorne Bay', 'Ketchikan', 'Teller Mission', 'Kasigluk', 'King Cove', 'Kivalina', 'Waterfall', 'Kwigillingok', 'Quinhagak', 'West Point', 'Kwethluk', 'Kasaan', 'Karluk', 'Koyukuk', 'Zachar Bay', 'Lafayette', 'Lakeland', 'Los Alamos', 'Lansing', 'Laramie', 'Las Vegas', 'Lawton', 'Los Angeles', 'Lubbock', 'Latrobe', 'Lake Charles', 'Lebanon', 'Lexington', 'Long Beach', 'Kauai Island', 'Little Rock', 'Lake Minchumina', 'Lincoln', 'Lancaster', 'Lanai City', 'Lopez Island', 'Laredo', 'La Crosse', 'Laurel', 'Kalaupapa', 'Cape Lisburne', 'Lewisburg', 'Lewiston', 'Lynchburg', 'Midland', 'Manistee', 'Merced', 'Mcgrath', 'Mccook', 'Macon', 'Mason City', 'Meridian', 'Memphis', 'Mcallen', 'Medford', 'Montgomery', 'Morgantown', 'Manhattan', 'Miami', 'Kansas City', 'Milwaukee', 'Muskegon', 'Hoolehua', 'Melbourne', 'Moline', 'Malta', 'Marshall', 'Monroe', 'Manley Hot Springs', 'Mammoth Lakes', 'Morristown', 'Minto', 'Mobile', 'Minot', 'Mountain Village', 'Marquette', 'Carmel', 'Muscle Shoals', 'Madison', 'Missoula', 'Minneapolis', 'Massena', 'New Orleans', 'Montrose', 'Metlakatla', 'Manitowoc', 'Kamuela', 'Stowe', \"Martha's Vineyard\", 'Marion', 'Myrtle Beach', 'Mekoryuk', 'Marana', 'Nikolai', 'Naukiti', 'Nelson Lagoon', 'Nightmute', 'Nondalton', 'Nuiqsut', 'Nulato', 'Nunapitchuk', 'New York', 'Oakland', 'Kobuk', 'Ogden', 'Kahului', 'Ogdensburg', 'Oklahoma City', 'Wolf Point', 'Old Harbor', 'Omaha', 'Nome', 'Ontario', 'Toksook Bay', 'Norfolk', 'Worcester', 'Port Lions', 'Orlando', 'Northway', 'Noorvik', 'Osage Beach', 'North Bend', 'Kotzebue', 'Owensboro', 'Paducah', 'West Palm Beach', 'Pedro Bay', 'Pendleton', 'Portland', 'Pelican', 'Page', 'Port Graham', 'Peach Springs', 'Newport News', 'Philadelphia', 'Point Hope', 'Phoenix', 'Peoria', 'Pocatello', 'Pilot Point', 'Pierre', 'Pittsburgh', 'Point Lay', 'Napaskiak', 'Parkersburg', 'Plattsburgh', 'Pellston', 'Port Moller', 'Pensacola', 'Port Protection', 'Presque Isle', 'Pilot Station', 'Prescott', 'Pasco', 'Petersburg', 'Portsmouth', 'Palm Springs', 'Port Alsworth', 'Port Heiden', 'Platinum', 'Pueblo', 'Poulsbo', 'Pullman', 'Provincetown', 'Providence', 'Provo', 'Riverside', 'Rapid City', 'Ruby', 'Roche Harbor', 'Redding', 'Redmond', 'Red Devil', 'Rhinelander', 'Richmond', 'Riverton', 'Rockland', 'Rock Springs', 'Rampart', 'Reno', 'Roanoke', 'Rochester', 'Roswell', 'Russian Mission', 'Rosario', 'Rutland', 'Sacramento', 'San Diego', 'San Antonio', 'Savannah', 'Santa Barbara', 'South Bend', 'Salisbury-Ocean City', 'Deadhorse', 'State College', 'Scammon Bay', 'Louisville', 'Sand Point', 'Sidney', 'Seattle', 'San Francisco', 'Springfield', 'Saint George', 'Skagway', 'Staunton', 'Shungnak', 'Shishmaref', 'Shreveport', 'Shageluk', 'Sitka', 'San Angelo', 'Shaktoolik', 'Salt Lake City', 'Saranac Lake', 'Salina', 'Sleetmute', 'St Michael', 'Santa Ana', 'Saint Paul Island', 'Seldovia', 'Show Low', 'Wichita Falls', 'Sarasota', 'Stony River', 'Brunswick', 'St Cloud', 'St George Island', 'St Louis', 'Santa Rosa', 'Hailey', 'Sioux City', 'Savoonga', 'Silver City', 'Stevens Village', 'Stillwater', 'Sheldon Point', 'Seal Bay', 'Syracuse', 'Tanana', 'Fort Leonard Wood', 'Tuscaloosa', 'Takotna', 'Teterboro', 'Telluride', 'Tacoma', 'Tenakee Springs', 'Tok', 'Teller', 'Tallahassee', 'Tatalina', 'Tuluksak', 'Tin City', 'Tununak', 'Togiak Village', 'Toledo', 'Topeka', 'Tampa', 'Kingsport', 'Tulsa', 'Tupelo', 'Tucson', 'Traverse City', 'Thief River Falls', 'Twin Hills', 'Twin Falls', 'Texarkana', 'Tyler', 'Knoxville', 'Uganik', 'Quincy', 'Unalakleet', 'St Augustine', 'Utopia Creek', 'Chevak', 'Valdez', 'Venetie', 'Vernal', 'Visalia', 'Valdosta', 'Valparaiso', 'Vero Beach', 'Wales', 'Washington', 'Stebbins', 'Beaver', 'Hyder', 'Selawik', 'Meyers Chuck', 'White Mountain', 'Napakiak', 'Wrangell', 'South Naknek', 'Westsound', 'Noatak', 'Tuntutuliak', 'Whale Pass', 'Newtok', 'West Yellowstone', 'Yakutat', 'Yakima', 'Youngstown', 'Yuma', 'Santa Fe', 'Fitiuta', 'Ofu', 'Pago Pago', 'Arrabury', 'Bamaga', 'Albury', 'Adelaide', 'Armidale', 'Alice Springs', 'Aurukun Mission', 'Ayers Rock', 'Barcaldine', 'Bundaberg', 'Badu Island', 'Bedourie', 'Broken Hill', 'Blackall', 'Broome', 'Brisbane', 'Ballina', 'Bussellton', 'Boulia', 'Bathurst Island', 'Burketown', 'Birdsville', 'Burnie', 'Barimunya', 'Cobar', 'Cape Barren Island', 'Canberra', 'Chinchilla', 'Ceduna', 'Coffs Harbour', 'Collie', 'Coondewanna', 'Cunnamulla', 'Coonamble', 'Coconut Island', 'Cloncurry', 'Cairns', 'Coober Pedy', 'Charleville', 'Cooktown', 'Coen', 'Carnarvon', 'Dubbo', 'Mudgee', 'Doomadgee', 'Devonport', 'Derby', 'Darwin', 'Edward River', 'Elcho Island', 'Emerald', 'Esperance', 'Fitzroy Crossing', 'Flinders Island', 'Geraldton', 'Griffith', 'Grafton', 'Boigu Island', 'Gladstone', 'Gove', 'Garden Point', 'Groote Eylandt', 'Granites', 'Argyle', 'Hobart', 'Halls Creek', 'Hughenden', 'Horn Island', 'Hayman Island', 'Hamilton Island', 'Humbert River', 'Hervey Bay', 'Lockhart River', 'Mount Isa', 'Inverell', 'Julia Creek', 'Kings Creek Station', 'Kingscote', 'Kalgoorlie', 'King Island', 'Kununurra', 'Karumba', 'Karratha', 'Katherine', 'Kubin Island', 'Kowanyama', 'Lord Howe Island', 'Learmonth', 'Lake Evella', 'Chillagoe', 'Leonora', 'Longreach', 'Launceston', 'Lismore', 'Laverton', 'Lizard Island', 'Mcarthur River', 'Sunshine Coast', 'Mount Gambier', 'Milingimbi', 'Merimbula', 'Monkey Mia', 'Meekatharra', 'Mackay', 'Mount Magnet', 'Middlemount', 'Maningrida', 'Moranbah', 'Mildura', 'Moree', 'Moruya', 'Murray Island', 'Narrabri', 'Nifty', 'Darnley Island', 'Norfolk Island', 'Narrandera', 'Normanton', 'Orange', 'Boolgeeda', 'Yorke Island', 'Olympic Dam', 'Mornington', 'Onslow', 'Gold Coast', 'Cooma', 'Osborne Mine', 'Paraburdoo', 'Perth', 'Port Hedland', 'Parkes', 'Port Lincoln', 'Palm Island', 'Proserpine', 'Port Macquarie', 'Port Augusta', 'Ramingining', 'Orbost', 'Roma', 'Rockhampton', 'Rottnest Island', 'Ravensthorpe', 'Saibai Island', 'St George', 'Snake Bay', 'Sue Island', 'Tennant Creek', 'Tamworth', 'Taree', 'Townsville', 'Toowoomba', 'Mabuiag Island', 'Quilpie', 'Weipa', 'Wagga Wagga', 'Winton', 'Miles', 'West Angleas', 'Warrnambool', 'Windorah', 'Wollongong', 'Wiluna', 'Woodie Woodie', 'Whyalla', 'Yam Island', 'Thargomindah', 'Taroom', 'Biloela', 'Newman', 'Aitutaki', 'Atiu Island', 'Mangaia Island', 'Manihiki Island', 'Mitiaro Island', 'Mauke Island', 'Penrhyn Island', 'Puka Puka Is / Attol', 'Rarotonga', 'Cicia', 'Kandavu', 'Koro Island', 'Labasa', 'Lakeba', 'Nadi', 'Rotuma Island', 'Suva', 'Savusavu', 'Taveuni', 'Vanuabalavu', 'Kosrae', 'Pohnpei', 'Truk', 'Yap', 'Barrigada / Tamuning', 'Aranuka', 'Abaiang', 'Abemama Atoll', 'Arorae Island', 'Butaritari', 'Beru', 'Kuria', 'Maiana', 'Makin Island', 'Marakei', 'Nikunau', 'Nonouti', 'Onotoa', 'Tabiteuea North', 'Tamana Island', 'Tarawa', 'Tabiteuea South', 'Airok', 'Ailuk Island', 'Aur Island', 'Bikini Atoll', 'Kwajalein Atoll', 'Ebon', 'Mili Atoll', 'Enewetak Island', 'Jeh', 'Kaben', 'Kili Island', 'Kwajalein', 'Likiep Island', 'Lae Island', 'Majuro', 'Maloelap Island', 'Mili Island', 'Mejit Island', 'Majkin', 'Namdrik Island', 'Rongelap Island', 'Jaluit Island', 'Ujae Island', 'Utirik Island', 'Woja', 'Wotje Island', 'Wotho Island', 'Rota', 'Saipan', 'Belep Island', 'Ile Des Pins', 'Kone', 'Koumac', 'Lifou', 'Mare', 'Noumea', 'Tiga', 'Touho', 'Ouvea', 'Nauru Island', 'Niue Island', 'Auckland', 'Blenheim', 'Christchurch', 'Chatham Island', 'Dunedin', 'Great Barrier Island', 'Gisborne', 'Hokitika', 'Invercargill', 'Kaitaia', 'Kaikoura', 'Kerikeri', 'Takaka', 'Napier-Hastings', 'New Plymouth', 'Nelson', 'Karamea', 'Picton', 'Palmerston North', 'Paraparaumu', 'Rotorua', 'Timaru', 'Tauranga', 'Taupo', 'Wanganui', 'Whakatane', 'Wellington', 'Whangarei', 'Westport', 'Queenstown', 'Anaa', 'Ahe', 'Apataki', 'Atuona', 'Arutua', 'Bora Bora', 'Faaite', 'Fakarava', 'Fangatau', 'Fakahina', 'Gambier Is', 'Hikueru', 'Hao Island', 'Huahine', 'Kauehi', 'Kaukura Atoll', 'Katiu', 'Maupiti', 'Makemo', 'Moorea', 'Mataiva', 'Napuka Island', 'Nuku Hiva', 'Niau', 'Nukutavake', 'Puka Puka', 'Papeete', 'Pukarua', 'Reao', 'Raiatea', 'Rangiroa', 'Aratika', 'Rimatara', 'Raroia', 'Rurutu', 'Rairua', 'Tikehau Atoll', 'Takume', 'Takapoto', 'Tatakoto', 'Takaroa', 'Tubuai', 'Ua Huka', 'Ua Pou', 'Moruroa Atoll', 'Vahitahi', 'Manihi', 'Tureia', 'Aitape', 'Bensbach', 'Buka', 'Bulolo', 'Kundiawa', 'Daru', 'Goroka', 'Alotau', 'Mount Hagen', 'Hoskins', 'Kieta', 'Komo-Manda', 'Kanua', 'Kavieng', 'Lae', 'Lihir Island', 'Losuia', 'Madang', 'Manus Island', 'Mendi', 'Misima Island', 'Moro', 'Popondetta', 'Port Moresby', 'Rabaul', 'Samarai Island', 'Siassi', 'Tabubil', 'Teptep', 'Tufi', 'Tari', 'Kiunga', 'Vanimo', 'Wapenamanda', 'Wewak', 'Koror', 'Auki', 'Atoifi', 'Balalae', 'Bellona', 'Choiseul Bay', 'Sege', 'Fera Island', 'Gizo', 'Honiara', 'Kirakira', 'Kagau', 'Munda', 'Ramata', 'Arona', 'Rennell', 'Marau Sound', 'Santa Cruz Is', 'Suavanao', 'Dili', 'Eua', \"Ha'Apai\", \"Niuafo'ou\", 'Niuatoputapu', 'Tongatapu', \"Vava'u\", 'Funafuti', 'Aneityum', 'Aniwa', 'Craig Cove', 'Dillons Bay', 'Emae', 'Futuna Island', 'Ipota', 'Lamen Bay', 'Lonorore', 'Longana', 'Lamap', 'Mota Lava', 'Maewo', 'Norsup', 'Paama', 'Sola', 'Espiritu Santo', 'Sara', 'South West Bay', 'Tanna', 'Tongoa', 'Torres', 'Ulei', 'Port Vila', 'Valesdir', 'Walaha', 'Gaua', 'Wallis Island', 'Apia', 'San Rafael', 'Zapala', 'Bahia Blanca', 'San Carlos DeBariloche', 'Corrientes', 'Concordia', 'Cordoba', 'San Martin DeLos Andes', 'Comodoro Rivadavia', 'Coronel Suarez', 'Catamarca', 'El Bolson', 'Esquel', 'Formosa', 'El Calafate', 'Iguazu', 'La Rioja', 'Jujuy', 'Malargue', 'Mar Del Plata', 'Mendoza', 'Neuquen', 'San Antonio Oeste', 'Perito Moreno', 'Puerto Madryn', 'Parana', 'Posadas', 'Puerto Deseado', 'Reconquista', 'Rio Cuarto', 'Rincon de los Sauces', 'Trelew', 'Resistencia', 'Rio Grande', 'Rio Gallegos', 'Rio Hondo', 'San Luis', 'Santiago Del Estero', 'Salta', 'Tandil', 'Tucuman', 'Ushuaia', 'Viedma', 'Villa Gesell', 'Yacuiba', 'Cochabamba', 'Chimore', 'Cobija', 'Guayaramerin', 'Oruro', 'Potosi', 'Puerto Suarez', 'Rurrenabaque', 'Riberalta', 'Sucre', 'Santa Cruz', 'Trinidad', 'Tarija', 'Uyuni', 'Araxa', 'Alta Floresta', 'Aracaju', 'Araraquara', 'Aracatuba', 'Altamira', 'Itauba', 'Araguaina', 'Bauru', 'Barbelos', 'Belem', 'Belo Horizonte', 'Barra Do Garcas', 'Porto Seguro', 'Barreiras', 'Brasilia', 'Vilhena', 'Bonito', 'Buzios', 'Cascavel', 'Carauari', 'Campos', 'Criciuma', 'Cabo Frio', 'Cacador', 'Cuiaba', 'Campo Grande', 'Coari', 'Carajas', 'Caldas Novas', 'Corumba', 'Campinas', 'Campina Grande', 'Curitiba', 'Caxias Do Sul', 'Cruzeiro Do Sul', 'Divinopolis', 'Dourados', 'Erechim', 'Eirunepe', 'Feira De Santana', 'Fernando De Noronha', 'Florianopolis', 'Fortaleza', 'Franca', 'Santo Angelo', 'Governador Valadares', 'Goiania', 'Humaitá', 'Iguassu Falls', 'Imperatriz', 'Ilheus', 'Ipatinga', 'Santa Isabel do Rio Negro', 'Itaituba', 'Itabuna', 'Joacaba', 'Juiz De Fora', 'Juazeiro Do Norte', 'Cruz', 'Jaguaruna', 'Joinville', 'Joao Pessoa', 'Ji-Parana', 'Lages', 'Labrea', 'Londrina', 'Lencois', 'Maraba', 'Manaus', 'Macapa', 'Maceio', 'Macae', 'Maringa', 'Marilia', 'Montes Claros', 'Mucuri', 'Natal', 'Navegantes', 'Cacoal', 'Paulo Afonso', 'Pelotas', 'Passo Fundo', 'Ponta Grossa', 'Parnaiba', 'Parintins', 'Palmas', 'Petrolina', 'Porto Alegre', 'Presidente Prudente', 'Porto Velho', 'Patos De Minas', 'Ribeirao Preto', 'Rio Branco', 'Recife', 'Rio De Janeiro', 'Rondonopolis', 'Rio Verde', 'Sao Paulo', 'Sao Jose Dos Campos', 'Sao Gabriel', 'Sao Jose Do Rio Preto', 'Sao Luiz', 'Sorriso', 'São Paulo de Olivença', 'Salvador', 'Santarem', 'Tabatinga', 'Tefe', 'Teresina', 'Três Lagoas', 'Trombetas', 'Tucurui', 'Teixeira de Freitas', 'Uberaba', 'Uberlandia', 'Uruguaiana', 'Varginha', 'Valenca', 'Vitoria Da Conquista', 'Chapeco', 'Antofagasta', 'Arica', 'Balmaceda', 'Concepcion', 'Calama', 'Copiapo', 'El Salvador', 'Easter Island', 'Iquique', 'Vina del Mar', 'La Serena', 'Puerto Montt', 'Puerto Natales', 'Punta Arenas', 'Castro', 'Porvenir', 'Puerto Williams', 'Chillan', 'Valdivia', 'Temuco', 'Osorno', 'Pucon', 'Acandi', 'Araracuara', 'San Andres Island', 'Apartado', 'Arauca', 'Armenia', 'Barranquilla', 'Bucaramanga', 'Bogota', 'Bahia Solano', 'Buenaventura', 'Caucasia', 'Cali', 'Condoto', 'Cartago', 'Cartagena', 'Cucuta', 'El Bagre', 'Barrancabermeja', 'El Yopal', 'Florencia', 'Guapi', 'Gamarra', 'Ibague', 'Ipiales', 'La Chorrera', 'Leticia', 'Lamacarena', 'La Pedrera', 'Puerto Leguizamo', 'Medellin', 'Monteria', 'Mitu', 'Manizales', 'Nuqui', 'Neiva', 'Otu', 'Puerto Carreno', 'Puerto Inirida', 'Pereira', 'Popayan', 'Pasto', 'Pitalito', 'Puerto Asis', 'Riohacha', 'Saravena', 'San Jose Del Gua', 'Santa Marta', 'Sabana De Torres', 'Tarapaca', 'Tumaco', 'Tolu', 'Tame', 'Quibdo', 'Villagarzon', 'Valledupar', 'Villavicencio', 'Cuenca', 'Esmeraldas', 'Galapagos Is', 'Guayaquil', 'Lago Agrio', 'Loja', 'Latacunga', 'Manta', 'Coca', 'San Cristobal', 'Salinas', 'Tulcan', 'Quito', 'Macas', 'Stanley', 'Cayenne', 'Ogle', 'Orinduik', 'Andahuaylas', 'Arequipa', 'Anta', 'Ayacucho', 'Chiclayo', 'Cajamarca', 'Cuzco', 'Huanuco', 'Iquitos', 'Jaen', 'Jauja', 'Juliaca', 'Lima', 'Machu Picchu', 'Pucallpa', 'Puerto Maldonado', 'Piura', 'Tumbes', 'Tacna', 'Tingo Maria', 'Tarapoto', 'Trujillo', 'Talara', 'Ciudad del Este', 'Asuncion', 'Paramaribo', 'Colonia', 'Montevideo', 'Punta Del Este', 'Barinas', 'Barquisimeto', 'Ciudad Bolivar', 'Caracas', 'Ciudad Guayana', 'Cumana', 'Carupano', 'Coro', 'La Fria', 'Los Roques', 'Las Piedras', 'Maracaibo', 'Maturin', 'Porlamar', 'Puerto Ayacucho', 'Puerto Ordaz', 'San Fernando De Apure', 'San Tome', 'El Vigia', 'Valera', 'Tasiilaq', 'Nuuk', 'Ilulissat', 'Aasiaat', 'Paamiut', 'Sisimiut', 'Qaarsut', 'Maniitsoq', 'Upernavik', 'Kulusuk Island', 'Qaanaaq', 'Narsarsuaq', 'Neerlerit Inaat', 'Ittoqqortoormiit', 'Kangerlussuaq', 'Pituffik', 'Uummannaq', 'Akureyri', 'Bildudalur', 'Egilsstadir', 'Gjogur', 'Grimsey', 'Hofn Horafjorur', 'Husavik', 'Isafjordur', 'Reykjavik', 'Thorshofn', 'Vestmannaeyjar', 'Vopnafjordur', 'Teniente R. Marsh']\n"
     ]
    }
   ],
   "source": [
    "print(list(city_dict.keys()))"
   ]
  },
  {
   "cell_type": "code",
   "execution_count": 13,
   "metadata": {},
   "outputs": [
    {
     "name": "stdout",
     "output_type": "stream",
     "text": [
      "['skyscraper', 'city', 'skyline', 'cityscape', 'tallest', 'architecture', 'tower', 'downtown', 'office', 'travel']\n",
      "[('Kunduz', 0.0020057306590257878), ('Nakhichevan', 0.0019505851755526658), ('Baku', 0.0019181904239948184), ('Qabala', 0.0018791105543376136), ('Gyandzha', 0.0018023121089626407), ('Kabul', 0.0017236603157991936), ('Lankaran', 0.0015746904301767947), ('Bamiyan', 0.001487994589110585), ('Yerevan', 0.0014004682815816538), ('Maimana', 0.0013871374527112232), ('Kandahar', 0.0013395190799790904), ('Mazar-I-Sharif', 0.0013057929724596391), ('Faizabad', 0.0012985645597164215), ('Zaranj', 0.001201923076923077), ('Sharana', 0.0012012012012012011), ('Herat', 0.0011586366708506324), ('Gyoumri', 0.0007451564828614009), ('Chakcharan', 0.0007369196757553427), ('Bost', 0.0), ('Farah', 0.0)]\n"
     ]
    }
   ],
   "source": [
    "print(select_best_cities_from_image(tokyo, list(city_dict.keys())[:20], 3))"
   ]
  },
  {
   "cell_type": "code",
   "execution_count": 14,
   "metadata": {
    "collapsed": true
   },
   "outputs": [],
   "source": [
    "capitals = requests.get('https://en.wikipedia.org/wiki/List_of_national_capitals_in_alphabetical_order')"
   ]
  },
  {
   "cell_type": "code",
   "execution_count": 15,
   "metadata": {
    "collapsed": true
   },
   "outputs": [],
   "source": [
    "soup = BeautifulSoup(capitals.content, \"lxml\")"
   ]
  },
  {
   "cell_type": "code",
   "execution_count": 16,
   "metadata": {},
   "outputs": [
    {
     "name": "stdout",
     "output_type": "stream",
     "text": [
      "[('Abu Dhabi', 'United Arab Emirates'), ('Abuja', 'Nigeria'), ('Accra', 'Ghana'), ('Adamstown', 'Pitcairn'), ('Addis Ababa', 'Ethiopia'), ('Algiers', 'Algeria'), ('Alofi', 'Niue'), ('Amman', 'Jordan'), ('Amsterdam', 'Netherlands'), ('Andorra la Vella', 'Andorra'), ('Ankara', 'Turkey'), ('Antananarivo', 'Madagascar'), ('Apia', 'Samoa'), ('Ashgabat', 'Turkmenistan'), ('Asmara', 'Eritrea'), ('Astana', 'Kazakhstan'), ('Asunción', 'Paraguay'), ('Athens', 'Greece'), ('Avarua', 'Cook Islands'), ('Baghdad', 'Iraq'), ('Baku', 'Azerbaijan'), ('Bamako', 'Mali'), ('Bandar Seri Begawan', 'Brunei'), ('Bangkok', 'Thailand'), ('Bangui', 'Central African Republic'), ('Banjul', 'Gambia'), ('Basse-Terre', 'Guadeloupe'), ('Basseterre', 'Saint Kitts and Nevis'), ('Beijing', 'China'), ('Beirut', 'Lebanon'), ('Belgrade', 'Serbia'), ('Belmopan', 'Belize'), ('Berlin [1]', 'Germany'), ('Bern', 'Switzerland'), ('Bishkek', 'Kyrgyzstan'), ('Bissau', 'Guinea-Bissau'), ('Bogotá', 'Colombia'), ('Brasília', 'Brazil'), ('Bratislava', 'Slovakia'), ('Brazzaville', 'Republic of the Congo'), ('Bridgetown', 'Barbados'), ('Brussels', 'Belgium'), ('Bucharest', 'Romania'), ('Budapest', 'Hungary'), ('Buenos Aires', 'Argentina'), ('Bujumbura', 'Burundi'), ('Cairo', 'Egypt'), ('Canberra', 'Australia'), ('Caracas', 'Venezuela'), ('Castries', 'Saint Lucia'), ('Cayenne', 'French Guiana'), ('Charlotte Amalie', 'United States Virgin Islands'), ('Chișinău', 'Moldova'), ('Cockburn Town', 'Turks and Caicos Islands'), ('Conakry', 'Guinea'), ('Copenhagen', 'Denmark'), ('Dakar', 'Senegal'), ('Damascus', 'Syria'), ('Dhaka', 'Bangladesh'), ('Dili', 'East Timor (Timor-Leste)'), ('Djibouti', 'Djibouti'), ('Dodoma (official, legislative)', 'Tanzania'), ('Doha', 'Qatar'), ('Douglas', 'Isle of Man'), ('Dublin', 'Ireland'), ('Dushanbe', 'Tajikistan'), ('Edinburgh of the Seven Seas', 'Tristan da Cunha'), ('El Aioun (declared)\\nTifariti (de facto)', 'Sahrawi Arab Democratic Republic\\xa0[c]'), ('Episkopi Cantonment', 'Akrotiri and Dhekelia'), ('Flying Fish Cove', 'Christmas Island'), ('Fort-de-France', 'Martinique'), ('Freetown', 'Sierra Leone'), ('Funafuti', 'Tuvalu'), ('Gaborone', 'Botswana'), ('George Town', 'Cayman Islands'), ('Georgetown', 'Ascension Island'), ('Georgetown', 'Guyana'), ('Gibraltar', 'Gibraltar'), ('Grozny', 'Chechnya'), ('Guatemala City', 'Guatemala'), ('Gustavia', 'Saint Barthélemy'), ('Hagåtña', 'Guam'), ('Hamilton', 'Bermuda'), ('Hanga Roa', 'Easter Island'), ('Hanoi', 'Vietnam'), ('Harare', 'Zimbabwe'), ('Hargeisa', 'Somaliland'), ('Havana', 'Cuba'), ('Helsinki', 'Finland'), ('Hong Kong', 'Hong Kong'), ('Honiara', 'Solomon Islands'), ('Islamabad', 'Pakistan'), ('Jakarta', 'Indonesia'), ('Jamestown', 'Saint Helena'), ('Jerusalem (declared, de facto)', 'Israel'), ('Juba', 'South Sudan'), ('Kabul', 'Afghanistan'), ('Kampala', 'Uganda'), ('Kathmandu', 'Nepal'), ('Khartoum', 'Sudan'), ('Kiev', 'Ukraine'), ('Kigali', 'Rwanda'), ('King Edward Point', 'South Georgia and the South Sandwich Islands'), ('Kingston', 'Jamaica'), ('Kingston', 'Norfolk Island'), ('Kingstown', 'Saint Vincent and the Grenadines'), ('Kinshasa', 'Democratic Republic of the Congo'), ('Kuala Lumpur (official, legislative and royal)\\nPutrajaya (administrative and judicial)', 'Malaysia'), ('Kuwait City', 'Kuwait'), ('Libreville', 'Gabon'), ('Lilongwe', 'Malawi'), ('Lima', 'Peru'), ('Lisbon', 'Portugal'), ('Ljubljana', 'Slovenia'), ('Lomé', 'Togo'), ('London', 'United Kingdom'), ('Luanda', 'Angola'), ('Lusaka', 'Zambia'), ('Luxembourg', 'Luxembourg'), ('Madrid', 'Spain'), ('Majuro', 'Marshall Islands'), ('Malabo', 'Equatorial Guinea'), ('Malé', 'Maldives'), ('Mamoudzou', 'Mayotte'), ('Managua', 'Nicaragua'), ('Manama', 'Bahrain'), ('Manila', 'Philippines'), ('Maputo', 'Mozambique'), ('Marigot', 'Saint Martin'), ('Maseru', 'Lesotho'), ('Mata-Utu', 'Wallis and Futuna'), ('Mbabane (administrative)\\nLobamba (royal and legislative)', 'Swaziland'), ('Mexico City', 'Mexico'), ('Minsk', 'Belarus'), ('Mogadishu', 'Somalia'), ('Monaco', 'Monaco'), ('Monrovia', 'Liberia'), ('Montevideo', 'Uruguay'), ('Moroni', 'Comoros'), ('Moscow', 'Russia'), ('Muscat', 'Oman'), ('Nairobi', 'Kenya'), ('Nassau', 'Bahamas'), ('Naypyidaw', 'Myanmar'), (\"N'Djamena\", 'Chad'), ('New Delhi', 'India'), ('Ngerulmud', 'Palau'), ('Niamey', 'Niger'), ('Nicosia', 'Cyprus'), ('Nicosia', 'Northern Cyprus'), ('Nouakchott', 'Mauritania'), ('Nouméa', 'New Caledonia'), ('Nukuʻalofa', 'Tonga'), ('Nuuk', 'Greenland'), ('Oranjestad', 'Aruba'), ('Oslo', 'Norway'), ('Ottawa', 'Canada'), ('Ouagadougou', 'Burkina Faso'), ('Pago Pago', 'American Samoa'), ('Palikir', 'Federated States of Micronesia'), ('Panama City', 'Panama'), ('Papeete', 'French Polynesia'), ('Paramaribo', 'Suriname'), ('Paris', 'France'), ('Philipsburg', 'Sint Maarten'), ('Phnom Penh', 'Cambodia'), ('Plymouth (official)\\nBrades Estate (de facto)', 'Montserrat'), ('Podgorica (official)\\nCetinje (Old Royal Capital, present seat of the President)', 'Montenegro'), ('Port Louis', 'Mauritius'), ('Port Moresby', 'Papua New Guinea'), ('Port Vila', 'Vanuatu'), ('Port-au-Prince', 'Haiti'), ('Port of Spain', 'Trinidad and Tobago'), ('Porto-Novo (official)\\nCotonou (de facto)', 'Benin'), ('Prague', 'Czech Republic'), ('Praia', 'Cape Verde'), ('Pretoria (executive)\\nBloemfontein (judicial)\\nCape Town (legislative)', 'South Africa'), ('Pristina', 'Kosovo[g]'), ('Pyongyang', 'North Korea'), ('Quito', 'Ecuador'), ('Rabat', 'Morocco'), ('Ramallah (de facto)\\nJerusalem (declared)', 'State of Palestine'), ('Reykjavík', 'Iceland'), ('Riga', 'Latvia'), ('Riyadh', 'Saudi Arabia'), ('Road Town', 'British Virgin Islands'), ('Rome', 'Italy'), ('Roseau', 'Dominica'), ('Saint-Denis', 'Réunion'), ('Saipan', 'Northern Mariana Islands'), ('San José', 'Costa Rica'), ('San Juan', 'Puerto Rico'), ('San Marino', 'San Marino'), ('San Salvador', 'El Salvador'), (\"Sana'a (de jure)\\nAden (de facto, seat of government)\", 'Yemen'), ('Santiago', 'Chile'), ('Santo Domingo', 'Dominican Republic'), ('São Tomé', 'São Tomé and Príncipe'), ('Sarajevo', 'Bosnia and Herzegovina'), ('Seoul', 'South Korea'), ('Singapore', 'Singapore'), ('Skopje', 'Republic of Macedonia'), ('Sofia', 'Bulgaria'), ('Sri Jayawardenepura Kotte (official)\\nColombo (former capital; has some government offices)', 'Sri Lanka'), (\"St. George's\", 'Grenada'), ('St. Helier', 'Jersey'), (\"St. John's\", 'Antigua and Barbuda'), ('St. Peter Port', 'Guernsey'), ('St. Pierre', 'Saint Pierre and Miquelon'), ('Stanley', 'Falkland Islands'), ('Stepanakert', 'Nagorno-Karabakh Republic'), ('Stockholm', 'Sweden'), ('Sucre (constitutional)\\nLa Paz (administrative)', 'Bolivia'), ('Sukhumi', 'Abkhazia'), ('Suva', 'Fiji'), ('Taipei', 'Taiwan'), ('Tallinn', 'Estonia'), ('Tarawa', 'Kiribati'), ('Tashkent', 'Uzbekistan'), ('Tbilisi (official)\\nKutaisi (legislative)', 'Georgia'), ('Tegucigalpa', 'Honduras'), ('Tehran', 'Iran'), ('Thimphu', 'Bhutan'), ('Tirana', 'Albania'), ('Tiraspol', 'Transnistria'), ('Tokyo', 'Japan'), ('Tórshavn', 'Faroe Islands'), ('Tripoli', 'Libya'), ('Tskhinvali', 'South Ossetia'), ('Tunis', 'Tunisia'), ('Ulaanbaatar', 'Mongolia'), ('Vaduz', 'Liechtenstein'), ('Valletta', 'Malta'), ('The Valley', 'Anguilla'), ('Vatican City', 'Vatican City'), ('Victoria', 'Seychelles'), ('Vienna', 'Austria'), ('Vientiane', 'Laos'), ('Vilnius', 'Lithuania'), ('Warsaw', 'Poland'), ('Washington, D.C.', 'United States'), ('Wellington', 'New Zealand'), ('West Island', 'Cocos (Keeling) Islands'), ('Willemstad', 'Curaçao'), ('Windhoek', 'Namibia'), ('Yamoussoukro (official)\\nAbidjan (former capital; still has many government offices)', \"Côte d'Ivoire\"), ('Yaoundé', 'Cameroon'), ('Yaren (de facto)', 'Nauru'), ('Yerevan', 'Armenia'), ('Zagreb', 'Croatia')]\n"
     ]
    }
   ],
   "source": [
    "table_cap = soup.find('table', {\"class\" : \"wikitable sortable\"})\n",
    "\n",
    "\n",
    "capitals = []\n",
    "for row in table_cap.find_all('tr'):\n",
    "    cols = row.find_all('td')\n",
    "\n",
    "    if len(cols) == 3:\n",
    "        capital = cols[0].text.strip()\n",
    "        #capital = regex.findall(r'[\\W]+', capital)[0]\n",
    "        #capital = regex.findall(r'?!a', capital)\n",
    "        capitals.append((capital, cols[1].text.strip()))\n",
    "\n",
    "\n",
    "print(capitals)"
   ]
  },
  {
   "cell_type": "code",
   "execution_count": 17,
   "metadata": {},
   "outputs": [],
   "source": [
    "def save_word_list(cities):\n",
    "    ret = {}\n",
    "    for city in cities:\n",
    "        startURL = 'https://en.wikipedia.org/wiki/'\n",
    "        result = requests.get(startURL + city)\n",
    "        if result.status_code == 200:\n",
    "        \n",
    "\n",
    "            c = result.content\n",
    "\n",
    "            soup = BeautifulSoup(c, \"lxml\")\n",
    "            text = soup.find(id='bodyContent').text\n",
    "            ret[city] = text.split()\n",
    "            print(city)\n",
    "    return ret\n",
    "    "
   ]
  },
  {
   "cell_type": "code",
   "execution_count": 18,
   "metadata": {},
   "outputs": [
    {
     "name": "stdout",
     "output_type": "stream",
     "text": [
      "Abu Dhabi\n",
      "Abuja\n",
      "Accra\n",
      "Adamstown\n",
      "Addis Ababa\n",
      "Algiers\n",
      "Alofi\n",
      "Amman\n",
      "Amsterdam\n",
      "Andorra la Vella\n",
      "Ankara\n",
      "Antananarivo\n",
      "Apia\n",
      "Ashgabat\n",
      "Asmara\n",
      "Astana\n",
      "Asunción\n",
      "Athens\n",
      "Avarua\n",
      "Baghdad\n",
      "Baku\n",
      "Bamako\n",
      "Bandar Seri Begawan\n",
      "Bangkok\n",
      "Bangui\n",
      "Banjul\n",
      "Basse-Terre\n",
      "Basseterre\n",
      "Beijing\n",
      "Beirut\n",
      "Belgrade\n",
      "Belmopan\n",
      "Bern\n",
      "Bishkek\n",
      "Bissau\n",
      "Bogotá\n",
      "Brasília\n",
      "Bratislava\n",
      "Brazzaville\n",
      "Bridgetown\n",
      "Brussels\n",
      "Bucharest\n",
      "Budapest\n",
      "Buenos Aires\n",
      "Bujumbura\n",
      "Cairo\n",
      "Canberra\n",
      "Caracas\n",
      "Castries\n",
      "Cayenne\n",
      "Charlotte Amalie\n",
      "Chișinău\n",
      "Cockburn Town\n",
      "Conakry\n",
      "Copenhagen\n",
      "Dakar\n",
      "Damascus\n",
      "Dhaka\n",
      "Dili\n",
      "Djibouti\n",
      "Doha\n",
      "Douglas\n",
      "Dublin\n",
      "Dushanbe\n",
      "Edinburgh of the Seven Seas\n",
      "Episkopi Cantonment\n",
      "Flying Fish Cove\n",
      "Fort-de-France\n",
      "Freetown\n",
      "Funafuti\n",
      "Gaborone\n",
      "George Town\n",
      "Georgetown\n",
      "Georgetown\n",
      "Gibraltar\n",
      "Grozny\n",
      "Guatemala City\n",
      "Gustavia\n",
      "Hagåtña\n",
      "Hamilton\n",
      "Hanga Roa\n",
      "Hanoi\n",
      "Harare\n",
      "Hargeisa\n",
      "Havana\n",
      "Helsinki\n",
      "Hong Kong\n",
      "Honiara\n",
      "Islamabad\n",
      "Jakarta\n",
      "Jamestown\n",
      "Juba\n",
      "Kabul\n",
      "Kampala\n",
      "Kathmandu\n",
      "Khartoum\n",
      "Kiev\n",
      "Kigali\n",
      "King Edward Point\n",
      "Kingston\n",
      "Kingston\n",
      "Kingstown\n",
      "Kinshasa\n",
      "Kuwait City\n",
      "Libreville\n",
      "Lilongwe\n",
      "Lima\n",
      "Lisbon\n",
      "Ljubljana\n",
      "Lomé\n",
      "London\n",
      "Luanda\n",
      "Lusaka\n",
      "Luxembourg\n",
      "Madrid\n",
      "Majuro\n",
      "Malabo\n",
      "Malé\n",
      "Mamoudzou\n",
      "Managua\n",
      "Manama\n",
      "Manila\n",
      "Maputo\n",
      "Marigot\n",
      "Maseru\n",
      "Mata-Utu\n",
      "Mexico City\n",
      "Minsk\n",
      "Mogadishu\n",
      "Monaco\n",
      "Monrovia\n",
      "Montevideo\n",
      "Moroni\n",
      "Moscow\n",
      "Muscat\n",
      "Nairobi\n",
      "Nassau\n",
      "Naypyidaw\n",
      "N'Djamena\n",
      "New Delhi\n",
      "Ngerulmud\n",
      "Niamey\n",
      "Nicosia\n",
      "Nicosia\n",
      "Nouakchott\n",
      "Nouméa\n",
      "Nukuʻalofa\n",
      "Nuuk\n",
      "Oranjestad\n",
      "Oslo\n",
      "Ottawa\n",
      "Ouagadougou\n",
      "Pago Pago\n",
      "Palikir\n",
      "Panama City\n",
      "Papeete\n",
      "Paramaribo\n",
      "Paris\n",
      "Philipsburg\n",
      "Phnom Penh\n",
      "Port Louis\n",
      "Port Moresby\n",
      "Port Vila\n",
      "Port-au-Prince\n",
      "Port of Spain\n",
      "Prague\n",
      "Praia\n",
      "Pristina\n",
      "Pyongyang\n",
      "Quito\n",
      "Rabat\n",
      "Reykjavík\n",
      "Riga\n",
      "Riyadh\n",
      "Road Town\n",
      "Rome\n",
      "Roseau\n",
      "Saint-Denis\n",
      "Saipan\n",
      "San José\n",
      "San Juan\n",
      "San Marino\n",
      "San Salvador\n",
      "Santiago\n",
      "Santo Domingo\n",
      "São Tomé\n",
      "Sarajevo\n",
      "Seoul\n",
      "Singapore\n",
      "Skopje\n",
      "Sofia\n",
      "St. George's\n",
      "St. Helier\n",
      "St. John's\n",
      "St. Peter Port\n",
      "St. Pierre\n",
      "Stanley\n",
      "Stepanakert\n",
      "Stockholm\n",
      "Sukhumi\n",
      "Suva\n",
      "Taipei\n",
      "Tallinn\n",
      "Tarawa\n",
      "Tashkent\n",
      "Tegucigalpa\n",
      "Tehran\n",
      "Thimphu\n",
      "Tirana\n",
      "Tiraspol\n",
      "Tokyo\n",
      "Tórshavn\n",
      "Tripoli\n",
      "Tskhinvali\n",
      "Tunis\n",
      "Ulaanbaatar\n",
      "Vaduz\n",
      "Valletta\n",
      "The Valley\n",
      "Vatican City\n",
      "Victoria\n",
      "Vienna\n",
      "Vientiane\n",
      "Vilnius\n",
      "Warsaw\n",
      "Washington, D.C.\n",
      "Wellington\n",
      "West Island\n",
      "Willemstad\n",
      "Windhoek\n",
      "Yaoundé\n",
      "Yerevan\n",
      "Zagreb\n"
     ]
    }
   ],
   "source": [
    "capitals_name = map(lambda x: x[0], capitals)\n",
    "\n",
    "pickle.dump(save_word_list(capitals_name), open(\"test.bin\", \"wb+\"))"
   ]
  },
  {
   "cell_type": "code",
   "execution_count": 20,
   "metadata": {},
   "outputs": [
    {
     "name": "stdout",
     "output_type": "stream",
     "text": [
      "[('Gustavia', 0.009615384615384616), ('Marigot', 0.008333333333333333), ('Palikir', 0.007194244604316547), ('Malé', 0.005909389363099146), ('Tarawa', 0.0050533408197641775), ('Moroni', 0.004975124378109453), ('Edinburgh of the Seven Seas', 0.0043859649122807015), ('Basseterre', 0.0038576939562794685), ('Malabo', 0.0036665851869958446), ('Alofi', 0.003629764065335753)]\n"
     ]
    }
   ],
   "source": [
    "def get_most_likely_cities_file(image, file, num):\n",
    "    ret = []\n",
    "    words_list = pickle.load(open(file, 'rb'))\n",
    "    words = find_best_words(image)\n",
    "    for city in words_list:\n",
    "        total = 0\n",
    "\n",
    "        count = Counter(words_list[city])\n",
    "        for word in words:\n",
    "            total+=count[word]\n",
    "        score = float(total) / float(len(words_list[city]))\n",
    "        ret.append((city, score))\n",
    "    return sorted(ret, key=lambda tup: tup[1], reverse=True)[:num]\n",
    "        \n",
    "\n",
    "        \n",
    "beach = 'https://media-cdn.tripadvisor.com/media/photo-s/0e/85/48/e6/seven-mile-beach-grand.jpg'\n",
    "counts = get_most_likely_cities_file(beach, 'capitals_wikipedia.bin', 10)\n",
    "\n",
    "print(counts)\n",
    "    "
   ]
  },
  {
   "cell_type": "code",
   "execution_count": null,
   "metadata": {
    "collapsed": true
   },
   "outputs": [],
   "source": []
  }
 ],
 "metadata": {
  "kernelspec": {
   "display_name": "Python 3",
   "language": "python",
   "name": "python3"
  },
  "language_info": {
   "codemirror_mode": {
    "name": "ipython",
    "version": 3
   },
   "file_extension": ".py",
   "mimetype": "text/x-python",
   "name": "python",
   "nbconvert_exporter": "python",
   "pygments_lexer": "ipython3",
   "version": "3.6.1"
  }
 },
 "nbformat": 4,
 "nbformat_minor": 2
}
